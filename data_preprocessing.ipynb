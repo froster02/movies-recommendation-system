{
  "nbformat": 4,
  "nbformat_minor": 0,
  "metadata": {
    "colab": {
      "name": "data_preprocessing.ipynb",
      "provenance": []
    },
    "kernelspec": {
      "name": "pythonjvsc74a57bd050ff39552d2a7adf301633425918e3cb36cc3ab2aaa0b9a3b3ce1901a1e3c510",
      "display_name": "Python 3.9.5 64-bit ('venv': venv)"
    },
    "language_info": {
      "name": "python",
      "version": "3.9.5"
    },
    "metadata": {
      "interpreter": {
        "hash": "50ff39552d2a7adf301633425918e3cb36cc3ab2aaa0b9a3b3ce1901a1e3c510"
      }
    }
  },
  "cells": [
    {
      "cell_type": "code",
      "metadata": {
        "id": "wME7QkMK6uBH"
      },
      "source": [
        "import pandas as pd\n",
        "from ast import literal_eval\n",
        "import numpy as np\n",
        "import math"
      ],
      "execution_count": 331,
      "outputs": []
    },
    {
      "cell_type": "code",
      "metadata": {
        "id": "CJH-Z4MS6yJ4"
      },
      "source": [
        "ds1 = pd.read_csv('tmdb_5000_credits.csv')\n",
        "ds2 = pd.read_csv('tmdb_5000_movies.csv')"
      ],
      "execution_count": 332,
      "outputs": []
    },
    {
      "cell_type": "code",
      "execution_count": 333,
      "metadata": {},
      "outputs": [
        {
          "output_type": "execute_result",
          "data": {
            "text/plain": [
              "   movie_id   title                                               cast  \\\n",
              "0     19995  Avatar  [{\"cast_id\": 242, \"character\": \"Jake Sully\", \"...   \n",
              "\n",
              "                                                crew  \n",
              "0  [{\"credit_id\": \"52fe48009251416c750aca23\", \"de...  "
            ],
            "text/html": "<div>\n<style scoped>\n    .dataframe tbody tr th:only-of-type {\n        vertical-align: middle;\n    }\n\n    .dataframe tbody tr th {\n        vertical-align: top;\n    }\n\n    .dataframe thead th {\n        text-align: right;\n    }\n</style>\n<table border=\"1\" class=\"dataframe\">\n  <thead>\n    <tr style=\"text-align: right;\">\n      <th></th>\n      <th>movie_id</th>\n      <th>title</th>\n      <th>cast</th>\n      <th>crew</th>\n    </tr>\n  </thead>\n  <tbody>\n    <tr>\n      <th>0</th>\n      <td>19995</td>\n      <td>Avatar</td>\n      <td>[{\"cast_id\": 242, \"character\": \"Jake Sully\", \"...</td>\n      <td>[{\"credit_id\": \"52fe48009251416c750aca23\", \"de...</td>\n    </tr>\n  </tbody>\n</table>\n</div>"
          },
          "metadata": {},
          "execution_count": 333
        }
      ],
      "source": [
        "ds1.head(1)"
      ]
    },
    {
      "cell_type": "code",
      "execution_count": 334,
      "metadata": {},
      "outputs": [
        {
          "output_type": "execute_result",
          "data": {
            "text/plain": [
              "      budget                                             genres  \\\n",
              "0  237000000  [{\"id\": 28, \"name\": \"Action\"}, {\"id\": 12, \"nam...   \n",
              "\n",
              "                      homepage     id  \\\n",
              "0  http://www.avatarmovie.com/  19995   \n",
              "\n",
              "                                            keywords original_language  \\\n",
              "0  [{\"id\": 1463, \"name\": \"culture clash\"}, {\"id\":...                en   \n",
              "\n",
              "  original_title                                           overview  \\\n",
              "0         Avatar  In the 22nd century, a paraplegic Marine is di...   \n",
              "\n",
              "   popularity                               production_companies  \\\n",
              "0  150.437577  [{\"name\": \"Ingenious Film Partners\", \"id\": 289...   \n",
              "\n",
              "                                production_countries release_date     revenue  \\\n",
              "0  [{\"iso_3166_1\": \"US\", \"name\": \"United States o...   2009-12-10  2787965087   \n",
              "\n",
              "   runtime                                   spoken_languages    status  \\\n",
              "0    162.0  [{\"iso_639_1\": \"en\", \"name\": \"English\"}, {\"iso...  Released   \n",
              "\n",
              "                       tagline   title  vote_average  vote_count  \n",
              "0  Enter the World of Pandora.  Avatar           7.2       11800  "
            ],
            "text/html": "<div>\n<style scoped>\n    .dataframe tbody tr th:only-of-type {\n        vertical-align: middle;\n    }\n\n    .dataframe tbody tr th {\n        vertical-align: top;\n    }\n\n    .dataframe thead th {\n        text-align: right;\n    }\n</style>\n<table border=\"1\" class=\"dataframe\">\n  <thead>\n    <tr style=\"text-align: right;\">\n      <th></th>\n      <th>budget</th>\n      <th>genres</th>\n      <th>homepage</th>\n      <th>id</th>\n      <th>keywords</th>\n      <th>original_language</th>\n      <th>original_title</th>\n      <th>overview</th>\n      <th>popularity</th>\n      <th>production_companies</th>\n      <th>production_countries</th>\n      <th>release_date</th>\n      <th>revenue</th>\n      <th>runtime</th>\n      <th>spoken_languages</th>\n      <th>status</th>\n      <th>tagline</th>\n      <th>title</th>\n      <th>vote_average</th>\n      <th>vote_count</th>\n    </tr>\n  </thead>\n  <tbody>\n    <tr>\n      <th>0</th>\n      <td>237000000</td>\n      <td>[{\"id\": 28, \"name\": \"Action\"}, {\"id\": 12, \"nam...</td>\n      <td>http://www.avatarmovie.com/</td>\n      <td>19995</td>\n      <td>[{\"id\": 1463, \"name\": \"culture clash\"}, {\"id\":...</td>\n      <td>en</td>\n      <td>Avatar</td>\n      <td>In the 22nd century, a paraplegic Marine is di...</td>\n      <td>150.437577</td>\n      <td>[{\"name\": \"Ingenious Film Partners\", \"id\": 289...</td>\n      <td>[{\"iso_3166_1\": \"US\", \"name\": \"United States o...</td>\n      <td>2009-12-10</td>\n      <td>2787965087</td>\n      <td>162.0</td>\n      <td>[{\"iso_639_1\": \"en\", \"name\": \"English\"}, {\"iso...</td>\n      <td>Released</td>\n      <td>Enter the World of Pandora.</td>\n      <td>Avatar</td>\n      <td>7.2</td>\n      <td>11800</td>\n    </tr>\n  </tbody>\n</table>\n</div>"
          },
          "metadata": {},
          "execution_count": 334
        }
      ],
      "source": [
        "ds2.head(1)"
      ]
    },
    {
      "cell_type": "code",
      "metadata": {
        "id": "On7PLZBPrtx4"
      },
      "source": [
        "ds1 = ds1.rename(index=str, columns={\"movie_id\" : \"id\"})\n",
        "\n",
        "merged = ds1.merge(ds2, on='id')\n",
        "\n",
        "merged = merged.drop(columns=['budget','homepage','title_x','production_companies','production_countries','revenue','runtime','spoken_languages','title_y','status','tagline','popularity'])\n",
        "\n",
        "merged = merged.rename(index=str, columns={\"original_title\" : \"title\"})"
      ],
      "execution_count": 335,
      "outputs": []
    },
    {
      "cell_type": "code",
      "metadata": {
        "colab": {
          "base_uri": "https://localhost:8080/",
          "height": 148
        },
        "id": "xC2jqZBOxjt_",
        "outputId": "bd061eeb-55e3-4959-9504-3d7449b8e44d"
      },
      "source": [
        "merged.head(1)"
      ],
      "execution_count": 336,
      "outputs": [
        {
          "output_type": "execute_result",
          "data": {
            "text/plain": [
              "      id                                               cast  \\\n",
              "0  19995  [{\"cast_id\": 242, \"character\": \"Jake Sully\", \"...   \n",
              "\n",
              "                                                crew  \\\n",
              "0  [{\"credit_id\": \"52fe48009251416c750aca23\", \"de...   \n",
              "\n",
              "                                              genres  \\\n",
              "0  [{\"id\": 28, \"name\": \"Action\"}, {\"id\": 12, \"nam...   \n",
              "\n",
              "                                            keywords original_language  \\\n",
              "0  [{\"id\": 1463, \"name\": \"culture clash\"}, {\"id\":...                en   \n",
              "\n",
              "    title                                           overview release_date  \\\n",
              "0  Avatar  In the 22nd century, a paraplegic Marine is di...   2009-12-10   \n",
              "\n",
              "   vote_average  vote_count  \n",
              "0           7.2       11800  "
            ],
            "text/html": "<div>\n<style scoped>\n    .dataframe tbody tr th:only-of-type {\n        vertical-align: middle;\n    }\n\n    .dataframe tbody tr th {\n        vertical-align: top;\n    }\n\n    .dataframe thead th {\n        text-align: right;\n    }\n</style>\n<table border=\"1\" class=\"dataframe\">\n  <thead>\n    <tr style=\"text-align: right;\">\n      <th></th>\n      <th>id</th>\n      <th>cast</th>\n      <th>crew</th>\n      <th>genres</th>\n      <th>keywords</th>\n      <th>original_language</th>\n      <th>title</th>\n      <th>overview</th>\n      <th>release_date</th>\n      <th>vote_average</th>\n      <th>vote_count</th>\n    </tr>\n  </thead>\n  <tbody>\n    <tr>\n      <th>0</th>\n      <td>19995</td>\n      <td>[{\"cast_id\": 242, \"character\": \"Jake Sully\", \"...</td>\n      <td>[{\"credit_id\": \"52fe48009251416c750aca23\", \"de...</td>\n      <td>[{\"id\": 28, \"name\": \"Action\"}, {\"id\": 12, \"nam...</td>\n      <td>[{\"id\": 1463, \"name\": \"culture clash\"}, {\"id\":...</td>\n      <td>en</td>\n      <td>Avatar</td>\n      <td>In the 22nd century, a paraplegic Marine is di...</td>\n      <td>2009-12-10</td>\n      <td>7.2</td>\n      <td>11800</td>\n    </tr>\n  </tbody>\n</table>\n</div>"
          },
          "metadata": {},
          "execution_count": 336
        }
      ]
    },
    {
      "cell_type": "code",
      "execution_count": 337,
      "metadata": {},
      "outputs": [
        {
          "output_type": "execute_result",
          "data": {
            "text/plain": [
              "(4803, 11)"
            ]
          },
          "metadata": {},
          "execution_count": 337
        }
      ],
      "source": [
        "merged.shape"
      ]
    },
    {
      "cell_type": "code",
      "execution_count": 338,
      "metadata": {},
      "outputs": [],
      "source": [
        "index_names = merged[ merged['original_language'] != 'en' ].index\n",
        "merged.drop(index_names, inplace = True)\n",
        "\n",
        "index_names = merged[ merged['vote_count'] < 800 ].index\n",
        "merged.drop(index_names, inplace = True)"
      ]
    },
    {
      "cell_type": "code",
      "execution_count": 339,
      "metadata": {},
      "outputs": [
        {
          "output_type": "execute_result",
          "data": {
            "text/plain": [
              "(1108, 11)"
            ]
          },
          "metadata": {},
          "execution_count": 339
        }
      ],
      "source": [
        "merged.shape"
      ]
    },
    {
      "cell_type": "code",
      "metadata": {
        "id": "9c-Xmp_D2U10"
      },
      "source": [
        "data = merged\n",
        "import ast\n",
        "data['genres'] = data['genres'].map(lambda x: ast.literal_eval(x))\n",
        "data['cast'] = data['cast'].map(lambda x: ast.literal_eval(x))\n",
        "data['crew'] = data['crew'].map(lambda x: ast.literal_eval(x))\n",
        "data['keywords'] = data['keywords'].map(lambda x: ast.literal_eval(x))"
      ],
      "execution_count": 340,
      "outputs": []
    },
    {
      "cell_type": "code",
      "metadata": {
        "id": "LEPbnB-b2_dc"
      },
      "source": [
        "def make_genresList(x):\n",
        "    gen = []\n",
        "    st = \" \"\n",
        "    for i in x:\n",
        "      gen.append(i.get('name'))\n",
        "    if gen == []:\n",
        "        return np.NaN\n",
        "    else:\n",
        "        return (st.join(gen))\n",
        "\n",
        "data['genres_list'] = data['genres'].map(lambda x: make_genresList(x))"
      ],
      "execution_count": 341,
      "outputs": []
    },
    {
      "cell_type": "code",
      "metadata": {
        "id": "qNL0wYVb3VtF"
      },
      "source": [
        "def get_directors(x):\n",
        "    dt = []\n",
        "    st = \" \"\n",
        "    for i in x:\n",
        "        if i.get('job') == 'Director':\n",
        "            dt.append(i.get('name'))\n",
        "    if dt == []:\n",
        "        return np.NaN\n",
        "    else:\n",
        "        return (st.join(dt))\n",
        "\n",
        "data['director_name'] = data['crew'].map(lambda x: get_directors(x))\n"
      ],
      "execution_count": 342,
      "outputs": []
    },
    {
      "cell_type": "code",
      "metadata": {
        "id": "pfU31QNS4dqY"
      },
      "source": [
        "data['index'] = range(0, len(data))"
      ],
      "execution_count": 343,
      "outputs": []
    },
    {
      "cell_type": "code",
      "metadata": {
        "id": "4rIxGgqE8t68"
      },
      "source": [
        "def make_castList(x):\n",
        "    gen = []\n",
        "    st = \" \"\n",
        "    for i in x:\n",
        "      gen.append(i.get('name'))\n",
        "    if gen == []:\n",
        "        return np.NaN\n",
        "    else:\n",
        "        return (st.join(gen))\n",
        "\n",
        "data['cast_list'] = data['cast'].map(lambda x: make_castList(x))"
      ],
      "execution_count": 344,
      "outputs": []
    },
    {
      "cell_type": "code",
      "metadata": {
        "id": "ie61br-6AxiU"
      },
      "source": [
        "def make_keywordsList(x):\n",
        "    gen = []\n",
        "    st = \" \"\n",
        "    for i in x:\n",
        "      gen.append(i.get('name'))\n",
        "    if gen == []:\n",
        "        return np.NaN\n",
        "    else:\n",
        "        return (st.join(gen))\n",
        "\n",
        "data['keywords_list'] = data['keywords'].map(lambda x: make_keywordsList(x))"
      ],
      "execution_count": 345,
      "outputs": []
    },
    {
      "cell_type": "code",
      "metadata": {
        "id": "T_5KHRELG9uY"
      },
      "source": [
        "def make_CrewList(x):\n",
        "    gen = []\n",
        "    st = \" \"\n",
        "    for i in x:\n",
        "      gen.append(i.get('name'))\n",
        "    if gen == []:\n",
        "        return np.NaN\n",
        "    else:\n",
        "        return (st.join(gen))\n",
        "\n",
        "data['crew_list'] = data['crew'].map(lambda x: make_keywordsList(x))"
      ],
      "execution_count": 346,
      "outputs": []
    },
    {
      "cell_type": "code",
      "metadata": {
        "id": "Ze3pGDQtALKI"
      },
      "source": [
        "data = data.drop(columns=['genres','cast','keywords','crew'])"
      ],
      "execution_count": 347,
      "outputs": []
    },
    {
      "cell_type": "code",
      "metadata": {
        "colab": {
          "base_uri": "https://localhost:8080/",
          "height": 185
        },
        "id": "DsLQFg8m4JAX",
        "outputId": "fbccb9d3-5345-4812-a53a-204f9b39c776"
      },
      "source": [
        "data.head(1)"
      ],
      "execution_count": 348,
      "outputs": [
        {
          "output_type": "execute_result",
          "data": {
            "text/plain": [
              "      id original_language   title  \\\n",
              "0  19995                en  Avatar   \n",
              "\n",
              "                                            overview release_date  \\\n",
              "0  In the 22nd century, a paraplegic Marine is di...   2009-12-10   \n",
              "\n",
              "   vote_average  vote_count                               genres_list  \\\n",
              "0           7.2       11800  Action Adventure Fantasy Science Fiction   \n",
              "\n",
              "   director_name  index                                          cast_list  \\\n",
              "0  James Cameron      0  Sam Worthington Zoe Saldana Sigourney Weaver S...   \n",
              "\n",
              "                                       keywords_list  \\\n",
              "0  culture clash future space war space colony so...   \n",
              "\n",
              "                                           crew_list  \n",
              "0  Stephen E. Rivkin Rick Carter Christopher Boye...  "
            ],
            "text/html": "<div>\n<style scoped>\n    .dataframe tbody tr th:only-of-type {\n        vertical-align: middle;\n    }\n\n    .dataframe tbody tr th {\n        vertical-align: top;\n    }\n\n    .dataframe thead th {\n        text-align: right;\n    }\n</style>\n<table border=\"1\" class=\"dataframe\">\n  <thead>\n    <tr style=\"text-align: right;\">\n      <th></th>\n      <th>id</th>\n      <th>original_language</th>\n      <th>title</th>\n      <th>overview</th>\n      <th>release_date</th>\n      <th>vote_average</th>\n      <th>vote_count</th>\n      <th>genres_list</th>\n      <th>director_name</th>\n      <th>index</th>\n      <th>cast_list</th>\n      <th>keywords_list</th>\n      <th>crew_list</th>\n    </tr>\n  </thead>\n  <tbody>\n    <tr>\n      <th>0</th>\n      <td>19995</td>\n      <td>en</td>\n      <td>Avatar</td>\n      <td>In the 22nd century, a paraplegic Marine is di...</td>\n      <td>2009-12-10</td>\n      <td>7.2</td>\n      <td>11800</td>\n      <td>Action Adventure Fantasy Science Fiction</td>\n      <td>James Cameron</td>\n      <td>0</td>\n      <td>Sam Worthington Zoe Saldana Sigourney Weaver S...</td>\n      <td>culture clash future space war space colony so...</td>\n      <td>Stephen E. Rivkin Rick Carter Christopher Boye...</td>\n    </tr>\n  </tbody>\n</table>\n</div>"
          },
          "metadata": {},
          "execution_count": 348
        }
      ]
    },
    {
      "cell_type": "code",
      "metadata": {
        "id": "xxc0H7h2IiAO"
      },
      "source": [
        "data = data.rename(columns={'genres_list':'genre'})\n",
        "data = data.rename(columns={'director_name':'director'})\n",
        "data = data.rename(columns={'cast_list':'cast'})\n",
        "data = data.rename(columns={'keywords_list':'keywords'})\n",
        "data = data.rename(columns={'crew_list':'crew'})"
      ],
      "execution_count": 349,
      "outputs": []
    },
    {
      "cell_type": "code",
      "metadata": {
        "colab": {
          "base_uri": "https://localhost:8080/"
        },
        "id": "Dd7aJqScMgd8",
        "outputId": "7ffb998b-abb7-48df-d53e-92a46ab314b5"
      },
      "source": [
        "data.isnull().sum()"
      ],
      "execution_count": 350,
      "outputs": [
        {
          "output_type": "execute_result",
          "data": {
            "text/plain": [
              "id                   0\n",
              "original_language    0\n",
              "title                0\n",
              "overview             0\n",
              "release_date         0\n",
              "vote_average         0\n",
              "vote_count           0\n",
              "genre                0\n",
              "director             0\n",
              "index                0\n",
              "cast                 0\n",
              "keywords             4\n",
              "crew                 0\n",
              "dtype: int64"
            ]
          },
          "metadata": {},
          "execution_count": 350
        }
      ]
    },
    {
      "cell_type": "code",
      "metadata": {
        "id": "z7g2PiEoq49f"
      },
      "source": [
        "data['overview'] = data['overview'].fillna('')\n",
        "data['release_date'] = data['release_date'].fillna('')\n",
        "data['genre'] = data['genre'].fillna('')\n",
        "data['director'] = data['director'].fillna('')\n",
        "data['cast'] = data['cast'].fillna('')\n",
        "data['keywords'] = data['keywords'].fillna('')\n",
        "data['crew'] = data['crew'].fillna('')"
      ],
      "execution_count": 351,
      "outputs": []
    },
    {
      "cell_type": "code",
      "metadata": {
        "colab": {
          "base_uri": "https://localhost:8080/"
        },
        "id": "v9qMTfYlrIo7",
        "outputId": "f8ad98df-ec97-4b3f-de79-0cf6bfe0627d"
      },
      "source": [
        "data.isnull().sum()"
      ],
      "execution_count": 352,
      "outputs": [
        {
          "output_type": "execute_result",
          "data": {
            "text/plain": [
              "id                   0\n",
              "original_language    0\n",
              "title                0\n",
              "overview             0\n",
              "release_date         0\n",
              "vote_average         0\n",
              "vote_count           0\n",
              "genre                0\n",
              "director             0\n",
              "index                0\n",
              "cast                 0\n",
              "keywords             0\n",
              "crew                 0\n",
              "dtype: int64"
            ]
          },
          "metadata": {},
          "execution_count": 352
        }
      ]
    },
    {
      "cell_type": "code",
      "metadata": {
        "colab": {
          "base_uri": "https://localhost:8080/",
          "height": 717
        },
        "id": "kAQRli-IJgSa",
        "outputId": "a1ec160d-8bf5-4fd1-885a-7578675ba578"
      },
      "source": [
        "data.head()"
      ],
      "execution_count": 353,
      "outputs": [
        {
          "output_type": "execute_result",
          "data": {
            "text/plain": [
              "       id original_language                                     title  \\\n",
              "0   19995                en                                    Avatar   \n",
              "1     285                en  Pirates of the Caribbean: At World's End   \n",
              "2  206647                en                                   Spectre   \n",
              "3   49026                en                     The Dark Knight Rises   \n",
              "4   49529                en                               John Carter   \n",
              "\n",
              "                                            overview release_date  \\\n",
              "0  In the 22nd century, a paraplegic Marine is di...   2009-12-10   \n",
              "1  Captain Barbossa, long believed to be dead, ha...   2007-05-19   \n",
              "2  A cryptic message from Bond’s past sends him o...   2015-10-26   \n",
              "3  Following the death of District Attorney Harve...   2012-07-16   \n",
              "4  John Carter is a war-weary, former military ca...   2012-03-07   \n",
              "\n",
              "   vote_average  vote_count                                     genre  \\\n",
              "0           7.2       11800  Action Adventure Fantasy Science Fiction   \n",
              "1           6.9        4500                  Adventure Fantasy Action   \n",
              "2           6.3        4466                    Action Adventure Crime   \n",
              "3           7.6        9106               Action Crime Drama Thriller   \n",
              "4           6.1        2124          Action Adventure Science Fiction   \n",
              "\n",
              "            director  index  \\\n",
              "0      James Cameron      0   \n",
              "1     Gore Verbinski      1   \n",
              "2         Sam Mendes      2   \n",
              "3  Christopher Nolan      3   \n",
              "4     Andrew Stanton      4   \n",
              "\n",
              "                                                cast  \\\n",
              "0  Sam Worthington Zoe Saldana Sigourney Weaver S...   \n",
              "1  Johnny Depp Orlando Bloom Keira Knightley Stel...   \n",
              "2  Daniel Craig Christoph Waltz Léa Seydoux Ralph...   \n",
              "3  Christian Bale Michael Caine Gary Oldman Anne ...   \n",
              "4  Taylor Kitsch Lynn Collins Samantha Morton Wil...   \n",
              "\n",
              "                                            keywords  \\\n",
              "0  culture clash future space war space colony so...   \n",
              "1  ocean drug abuse exotic island east india trad...   \n",
              "2  spy based on novel secret agent sequel mi6 bri...   \n",
              "3  dc comics crime fighter terrorist secret ident...   \n",
              "4  based on novel mars medallion space travel pri...   \n",
              "\n",
              "                                                crew  \n",
              "0  Stephen E. Rivkin Rick Carter Christopher Boye...  \n",
              "1  Dariusz Wolski Gore Verbinski Jerry Bruckheime...  \n",
              "2  Thomas Newman Sam Mendes Anna Pinnock John Log...  \n",
              "3  Hans Zimmer Charles Roven Christopher Nolan Ch...  \n",
              "4  Andrew Stanton Andrew Stanton John Lasseter Co...  "
            ],
            "text/html": "<div>\n<style scoped>\n    .dataframe tbody tr th:only-of-type {\n        vertical-align: middle;\n    }\n\n    .dataframe tbody tr th {\n        vertical-align: top;\n    }\n\n    .dataframe thead th {\n        text-align: right;\n    }\n</style>\n<table border=\"1\" class=\"dataframe\">\n  <thead>\n    <tr style=\"text-align: right;\">\n      <th></th>\n      <th>id</th>\n      <th>original_language</th>\n      <th>title</th>\n      <th>overview</th>\n      <th>release_date</th>\n      <th>vote_average</th>\n      <th>vote_count</th>\n      <th>genre</th>\n      <th>director</th>\n      <th>index</th>\n      <th>cast</th>\n      <th>keywords</th>\n      <th>crew</th>\n    </tr>\n  </thead>\n  <tbody>\n    <tr>\n      <th>0</th>\n      <td>19995</td>\n      <td>en</td>\n      <td>Avatar</td>\n      <td>In the 22nd century, a paraplegic Marine is di...</td>\n      <td>2009-12-10</td>\n      <td>7.2</td>\n      <td>11800</td>\n      <td>Action Adventure Fantasy Science Fiction</td>\n      <td>James Cameron</td>\n      <td>0</td>\n      <td>Sam Worthington Zoe Saldana Sigourney Weaver S...</td>\n      <td>culture clash future space war space colony so...</td>\n      <td>Stephen E. Rivkin Rick Carter Christopher Boye...</td>\n    </tr>\n    <tr>\n      <th>1</th>\n      <td>285</td>\n      <td>en</td>\n      <td>Pirates of the Caribbean: At World's End</td>\n      <td>Captain Barbossa, long believed to be dead, ha...</td>\n      <td>2007-05-19</td>\n      <td>6.9</td>\n      <td>4500</td>\n      <td>Adventure Fantasy Action</td>\n      <td>Gore Verbinski</td>\n      <td>1</td>\n      <td>Johnny Depp Orlando Bloom Keira Knightley Stel...</td>\n      <td>ocean drug abuse exotic island east india trad...</td>\n      <td>Dariusz Wolski Gore Verbinski Jerry Bruckheime...</td>\n    </tr>\n    <tr>\n      <th>2</th>\n      <td>206647</td>\n      <td>en</td>\n      <td>Spectre</td>\n      <td>A cryptic message from Bond’s past sends him o...</td>\n      <td>2015-10-26</td>\n      <td>6.3</td>\n      <td>4466</td>\n      <td>Action Adventure Crime</td>\n      <td>Sam Mendes</td>\n      <td>2</td>\n      <td>Daniel Craig Christoph Waltz Léa Seydoux Ralph...</td>\n      <td>spy based on novel secret agent sequel mi6 bri...</td>\n      <td>Thomas Newman Sam Mendes Anna Pinnock John Log...</td>\n    </tr>\n    <tr>\n      <th>3</th>\n      <td>49026</td>\n      <td>en</td>\n      <td>The Dark Knight Rises</td>\n      <td>Following the death of District Attorney Harve...</td>\n      <td>2012-07-16</td>\n      <td>7.6</td>\n      <td>9106</td>\n      <td>Action Crime Drama Thriller</td>\n      <td>Christopher Nolan</td>\n      <td>3</td>\n      <td>Christian Bale Michael Caine Gary Oldman Anne ...</td>\n      <td>dc comics crime fighter terrorist secret ident...</td>\n      <td>Hans Zimmer Charles Roven Christopher Nolan Ch...</td>\n    </tr>\n    <tr>\n      <th>4</th>\n      <td>49529</td>\n      <td>en</td>\n      <td>John Carter</td>\n      <td>John Carter is a war-weary, former military ca...</td>\n      <td>2012-03-07</td>\n      <td>6.1</td>\n      <td>2124</td>\n      <td>Action Adventure Science Fiction</td>\n      <td>Andrew Stanton</td>\n      <td>4</td>\n      <td>Taylor Kitsch Lynn Collins Samantha Morton Wil...</td>\n      <td>based on novel mars medallion space travel pri...</td>\n      <td>Andrew Stanton Andrew Stanton John Lasseter Co...</td>\n    </tr>\n  </tbody>\n</table>\n</div>"
          },
          "metadata": {},
          "execution_count": 353
        }
      ]
    },
    {
      "cell_type": "code",
      "metadata": {
        "id": "ufzoiq4mG6P6"
      },
      "source": [
        "# data.to_csv('cleaned_dataset.csv', index=False)"
      ],
      "execution_count": 354,
      "outputs": []
    },
    {
      "cell_type": "code",
      "execution_count": 355,
      "metadata": {},
      "outputs": [],
      "source": [
        "res = 0\n",
        "v = data['vote_count'] \n",
        "R = data['vote_average'] \n",
        "C = data['vote_average'].mean() \n",
        "m = data['vote_count'].quantile(0.70) \n",
        "\n",
        "res = round(((R*v)+ (C*m))/(v+m), 1)\n",
        "\n",
        "data['weighted_average'] = res\n",
        "\n",
        "movie_sorted_ranking = data.sort_values('weighted_average',ascending=False)"
      ]
    },
    {
      "cell_type": "code",
      "execution_count": 357,
      "metadata": {},
      "outputs": [
        {
          "output_type": "execute_result",
          "data": {
            "text/plain": [
              "id                   0\n",
              "original_language    0\n",
              "title                0\n",
              "overview             0\n",
              "release_date         0\n",
              "vote_average         0\n",
              "vote_count           0\n",
              "genre                0\n",
              "director             0\n",
              "index                0\n",
              "cast                 0\n",
              "keywords             0\n",
              "crew                 0\n",
              "weighted_average     0\n",
              "dtype: int64"
            ]
          },
          "metadata": {},
          "execution_count": 357
        }
      ],
      "source": [
        "data.isnull().sum()"
      ]
    },
    {
      "cell_type": "code",
      "execution_count": 358,
      "metadata": {},
      "outputs": [
        {
          "output_type": "execute_result",
          "data": {
            "text/plain": [
              "       id original_language                                     title  \\\n",
              "0   19995                en                                    Avatar   \n",
              "1     285                en  Pirates of the Caribbean: At World's End   \n",
              "2  206647                en                                   Spectre   \n",
              "3   49026                en                     The Dark Knight Rises   \n",
              "4   49529                en                               John Carter   \n",
              "\n",
              "                                            overview release_date  \\\n",
              "0  In the 22nd century, a paraplegic Marine is di...   2009-12-10   \n",
              "1  Captain Barbossa, long believed to be dead, ha...   2007-05-19   \n",
              "2  A cryptic message from Bond’s past sends him o...   2015-10-26   \n",
              "3  Following the death of District Attorney Harve...   2012-07-16   \n",
              "4  John Carter is a war-weary, former military ca...   2012-03-07   \n",
              "\n",
              "   vote_average  vote_count                                     genre  \\\n",
              "0           7.2       11800  Action Adventure Fantasy Science Fiction   \n",
              "1           6.9        4500                  Adventure Fantasy Action   \n",
              "2           6.3        4466                    Action Adventure Crime   \n",
              "3           7.6        9106               Action Crime Drama Thriller   \n",
              "4           6.1        2124          Action Adventure Science Fiction   \n",
              "\n",
              "            director  index  \\\n",
              "0      James Cameron      0   \n",
              "1     Gore Verbinski      1   \n",
              "2         Sam Mendes      2   \n",
              "3  Christopher Nolan      3   \n",
              "4     Andrew Stanton      4   \n",
              "\n",
              "                                                cast  \\\n",
              "0  Sam Worthington Zoe Saldana Sigourney Weaver S...   \n",
              "1  Johnny Depp Orlando Bloom Keira Knightley Stel...   \n",
              "2  Daniel Craig Christoph Waltz Léa Seydoux Ralph...   \n",
              "3  Christian Bale Michael Caine Gary Oldman Anne ...   \n",
              "4  Taylor Kitsch Lynn Collins Samantha Morton Wil...   \n",
              "\n",
              "                                            keywords  \\\n",
              "0  culture clash future space war space colony so...   \n",
              "1  ocean drug abuse exotic island east india trad...   \n",
              "2  spy based on novel secret agent sequel mi6 bri...   \n",
              "3  dc comics crime fighter terrorist secret ident...   \n",
              "4  based on novel mars medallion space travel pri...   \n",
              "\n",
              "                                                crew  weighted_average  \n",
              "0  Stephen E. Rivkin Rick Carter Christopher Boye...               7.1  \n",
              "1  Dariusz Wolski Gore Verbinski Jerry Bruckheime...               6.8  \n",
              "2  Thomas Newman Sam Mendes Anna Pinnock John Log...               6.4  \n",
              "3  Hans Zimmer Charles Roven Christopher Nolan Ch...               7.4  \n",
              "4  Andrew Stanton Andrew Stanton John Lasseter Co...               6.4  "
            ],
            "text/html": "<div>\n<style scoped>\n    .dataframe tbody tr th:only-of-type {\n        vertical-align: middle;\n    }\n\n    .dataframe tbody tr th {\n        vertical-align: top;\n    }\n\n    .dataframe thead th {\n        text-align: right;\n    }\n</style>\n<table border=\"1\" class=\"dataframe\">\n  <thead>\n    <tr style=\"text-align: right;\">\n      <th></th>\n      <th>id</th>\n      <th>original_language</th>\n      <th>title</th>\n      <th>overview</th>\n      <th>release_date</th>\n      <th>vote_average</th>\n      <th>vote_count</th>\n      <th>genre</th>\n      <th>director</th>\n      <th>index</th>\n      <th>cast</th>\n      <th>keywords</th>\n      <th>crew</th>\n      <th>weighted_average</th>\n    </tr>\n  </thead>\n  <tbody>\n    <tr>\n      <th>0</th>\n      <td>19995</td>\n      <td>en</td>\n      <td>Avatar</td>\n      <td>In the 22nd century, a paraplegic Marine is di...</td>\n      <td>2009-12-10</td>\n      <td>7.2</td>\n      <td>11800</td>\n      <td>Action Adventure Fantasy Science Fiction</td>\n      <td>James Cameron</td>\n      <td>0</td>\n      <td>Sam Worthington Zoe Saldana Sigourney Weaver S...</td>\n      <td>culture clash future space war space colony so...</td>\n      <td>Stephen E. Rivkin Rick Carter Christopher Boye...</td>\n      <td>7.1</td>\n    </tr>\n    <tr>\n      <th>1</th>\n      <td>285</td>\n      <td>en</td>\n      <td>Pirates of the Caribbean: At World's End</td>\n      <td>Captain Barbossa, long believed to be dead, ha...</td>\n      <td>2007-05-19</td>\n      <td>6.9</td>\n      <td>4500</td>\n      <td>Adventure Fantasy Action</td>\n      <td>Gore Verbinski</td>\n      <td>1</td>\n      <td>Johnny Depp Orlando Bloom Keira Knightley Stel...</td>\n      <td>ocean drug abuse exotic island east india trad...</td>\n      <td>Dariusz Wolski Gore Verbinski Jerry Bruckheime...</td>\n      <td>6.8</td>\n    </tr>\n    <tr>\n      <th>2</th>\n      <td>206647</td>\n      <td>en</td>\n      <td>Spectre</td>\n      <td>A cryptic message from Bond’s past sends him o...</td>\n      <td>2015-10-26</td>\n      <td>6.3</td>\n      <td>4466</td>\n      <td>Action Adventure Crime</td>\n      <td>Sam Mendes</td>\n      <td>2</td>\n      <td>Daniel Craig Christoph Waltz Léa Seydoux Ralph...</td>\n      <td>spy based on novel secret agent sequel mi6 bri...</td>\n      <td>Thomas Newman Sam Mendes Anna Pinnock John Log...</td>\n      <td>6.4</td>\n    </tr>\n    <tr>\n      <th>3</th>\n      <td>49026</td>\n      <td>en</td>\n      <td>The Dark Knight Rises</td>\n      <td>Following the death of District Attorney Harve...</td>\n      <td>2012-07-16</td>\n      <td>7.6</td>\n      <td>9106</td>\n      <td>Action Crime Drama Thriller</td>\n      <td>Christopher Nolan</td>\n      <td>3</td>\n      <td>Christian Bale Michael Caine Gary Oldman Anne ...</td>\n      <td>dc comics crime fighter terrorist secret ident...</td>\n      <td>Hans Zimmer Charles Roven Christopher Nolan Ch...</td>\n      <td>7.4</td>\n    </tr>\n    <tr>\n      <th>4</th>\n      <td>49529</td>\n      <td>en</td>\n      <td>John Carter</td>\n      <td>John Carter is a war-weary, former military ca...</td>\n      <td>2012-03-07</td>\n      <td>6.1</td>\n      <td>2124</td>\n      <td>Action Adventure Science Fiction</td>\n      <td>Andrew Stanton</td>\n      <td>4</td>\n      <td>Taylor Kitsch Lynn Collins Samantha Morton Wil...</td>\n      <td>based on novel mars medallion space travel pri...</td>\n      <td>Andrew Stanton Andrew Stanton John Lasseter Co...</td>\n      <td>6.4</td>\n    </tr>\n  </tbody>\n</table>\n</div>"
          },
          "metadata": {},
          "execution_count": 358
        }
      ],
      "source": [
        "data.head()"
      ]
    },
    {
      "cell_type": "code",
      "execution_count": 359,
      "metadata": {},
      "outputs": [],
      "source": [
        "data.to_csv('tmdb_ds.csv', index=False)"
      ]
    },
    {
      "cell_type": "code",
      "execution_count": 360,
      "metadata": {},
      "outputs": [
        {
          "output_type": "execute_result",
          "data": {
            "text/plain": [
              "(1108, 14)"
            ]
          },
          "metadata": {},
          "execution_count": 360
        }
      ],
      "source": [
        "data.shape"
      ]
    }
  ]
}