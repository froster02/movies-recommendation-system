{
  "nbformat": 4,
  "nbformat_minor": 0,
  "metadata": {
    "colab": {
      "name": "data_preprocessing.ipynb",
      "provenance": []
    },
    "kernelspec": {
      "name": "pythonjvsc74a57bd050ff39552d2a7adf301633425918e3cb36cc3ab2aaa0b9a3b3ce1901a1e3c510",
      "display_name": "Python 3.9.5  ('venv': venv)"
    },
    "language_info": {
      "name": "python",
      "version": "3.9.5"
    },
    "metadata": {
      "interpreter": {
        "hash": "50ff39552d2a7adf301633425918e3cb36cc3ab2aaa0b9a3b3ce1901a1e3c510"
      }
    }
  },
  "cells": [
    {
      "cell_type": "code",
      "metadata": {
        "id": "wME7QkMK6uBH"
      },
      "source": [
        "import pandas as pd\n",
        "from ast import literal_eval\n",
        "import numpy as np\n",
        "import math"
      ],
      "execution_count": 1,
      "outputs": []
    },
    {
      "cell_type": "code",
      "metadata": {
        "id": "CJH-Z4MS6yJ4"
      },
      "source": [
        "ds1 = pd.read_csv('tmdb_5000_credits.csv')\n",
        "ds2 = pd.read_csv('tmdb_5000_movies.csv')"
      ],
      "execution_count": 2,
      "outputs": []
    },
    {
      "cell_type": "code",
      "metadata": {
        "id": "On7PLZBPrtx4"
      },
      "source": [
        "ds1 = ds1.rename(index=str, columns={\"movie_id\" : \"id\"})\n",
        "\n",
        "merged = ds1.merge(ds2, on='id')\n",
        "\n",
        "merged = merged.drop(columns=['budget','homepage','original_language','title_x','production_companies','production_countries','revenue','runtime','spoken_languages','title_y','status','tagline','popularity'])\n",
        "\n",
        "merged = merged.rename(index=str, columns={\"original_title\" : \"title\"})"
      ],
      "execution_count": 3,
      "outputs": []
    },
    {
      "cell_type": "code",
      "metadata": {
        "colab": {
          "base_uri": "https://localhost:8080/",
          "height": 148
        },
        "id": "xC2jqZBOxjt_",
        "outputId": "bd061eeb-55e3-4959-9504-3d7449b8e44d"
      },
      "source": [
        "merged.head(1)"
      ],
      "execution_count": 4,
      "outputs": [
        {
          "output_type": "execute_result",
          "data": {
            "text/plain": [
              "      id                                               cast  \\\n",
              "0  19995  [{\"cast_id\": 242, \"character\": \"Jake Sully\", \"...   \n",
              "\n",
              "                                                crew  \\\n",
              "0  [{\"credit_id\": \"52fe48009251416c750aca23\", \"de...   \n",
              "\n",
              "                                              genres  \\\n",
              "0  [{\"id\": 28, \"name\": \"Action\"}, {\"id\": 12, \"nam...   \n",
              "\n",
              "                                            keywords   title  \\\n",
              "0  [{\"id\": 1463, \"name\": \"culture clash\"}, {\"id\":...  Avatar   \n",
              "\n",
              "                                            overview release_date  \\\n",
              "0  In the 22nd century, a paraplegic Marine is di...   2009-12-10   \n",
              "\n",
              "   vote_average  vote_count  \n",
              "0           7.2       11800  "
            ],
            "text/html": "<div>\n<style scoped>\n    .dataframe tbody tr th:only-of-type {\n        vertical-align: middle;\n    }\n\n    .dataframe tbody tr th {\n        vertical-align: top;\n    }\n\n    .dataframe thead th {\n        text-align: right;\n    }\n</style>\n<table border=\"1\" class=\"dataframe\">\n  <thead>\n    <tr style=\"text-align: right;\">\n      <th></th>\n      <th>id</th>\n      <th>cast</th>\n      <th>crew</th>\n      <th>genres</th>\n      <th>keywords</th>\n      <th>title</th>\n      <th>overview</th>\n      <th>release_date</th>\n      <th>vote_average</th>\n      <th>vote_count</th>\n    </tr>\n  </thead>\n  <tbody>\n    <tr>\n      <th>0</th>\n      <td>19995</td>\n      <td>[{\"cast_id\": 242, \"character\": \"Jake Sully\", \"...</td>\n      <td>[{\"credit_id\": \"52fe48009251416c750aca23\", \"de...</td>\n      <td>[{\"id\": 28, \"name\": \"Action\"}, {\"id\": 12, \"nam...</td>\n      <td>[{\"id\": 1463, \"name\": \"culture clash\"}, {\"id\":...</td>\n      <td>Avatar</td>\n      <td>In the 22nd century, a paraplegic Marine is di...</td>\n      <td>2009-12-10</td>\n      <td>7.2</td>\n      <td>11800</td>\n    </tr>\n  </tbody>\n</table>\n</div>"
          },
          "metadata": {},
          "execution_count": 4
        }
      ]
    },
    {
      "cell_type": "code",
      "metadata": {
        "id": "9c-Xmp_D2U10"
      },
      "source": [
        "data = merged\n",
        "import ast\n",
        "data['genres'] = data['genres'].map(lambda x: ast.literal_eval(x))\n",
        "data['cast'] = data['cast'].map(lambda x: ast.literal_eval(x))\n",
        "data['crew'] = data['crew'].map(lambda x: ast.literal_eval(x))\n",
        "data['keywords'] = data['keywords'].map(lambda x: ast.literal_eval(x))"
      ],
      "execution_count": 5,
      "outputs": []
    },
    {
      "cell_type": "code",
      "metadata": {
        "id": "LEPbnB-b2_dc"
      },
      "source": [
        "def make_genresList(x):\n",
        "    gen = []\n",
        "    st = \" \"\n",
        "    for i in x:\n",
        "      gen.append(i.get('name'))\n",
        "    if gen == []:\n",
        "        return np.NaN\n",
        "    else:\n",
        "        return (st.join(gen))\n",
        "\n",
        "data['genres_list'] = data['genres'].map(lambda x: make_genresList(x))"
      ],
      "execution_count": 6,
      "outputs": []
    },
    {
      "cell_type": "code",
      "metadata": {
        "id": "qNL0wYVb3VtF"
      },
      "source": [
        "def get_directors(x):\n",
        "    dt = []\n",
        "    st = \" \"\n",
        "    for i in x:\n",
        "        if i.get('job') == 'Director':\n",
        "            dt.append(i.get('name'))\n",
        "    if dt == []:\n",
        "        return np.NaN\n",
        "    else:\n",
        "        return (st.join(dt))\n",
        "\n",
        "data['director_name'] = data['crew'].map(lambda x: get_directors(x))\n"
      ],
      "execution_count": 7,
      "outputs": []
    },
    {
      "cell_type": "code",
      "metadata": {
        "id": "pfU31QNS4dqY"
      },
      "source": [
        "data['index'] = range(0, len(data))"
      ],
      "execution_count": 8,
      "outputs": []
    },
    {
      "cell_type": "code",
      "metadata": {
        "id": "4rIxGgqE8t68"
      },
      "source": [
        "def make_castList(x):\n",
        "    gen = []\n",
        "    st = \" \"\n",
        "    for i in x:\n",
        "      gen.append(i.get('name'))\n",
        "    if gen == []:\n",
        "        return np.NaN\n",
        "    else:\n",
        "        return (st.join(gen))\n",
        "\n",
        "data['cast_list'] = data['cast'].map(lambda x: make_castList(x))"
      ],
      "execution_count": 9,
      "outputs": []
    },
    {
      "cell_type": "code",
      "metadata": {
        "id": "ie61br-6AxiU"
      },
      "source": [
        "def make_keywordsList(x):\n",
        "    gen = []\n",
        "    st = \" \"\n",
        "    for i in x:\n",
        "      gen.append(i.get('name'))\n",
        "    if gen == []:\n",
        "        return np.NaN\n",
        "    else:\n",
        "        return (st.join(gen))\n",
        "\n",
        "data['keywords_list'] = data['keywords'].map(lambda x: make_keywordsList(x))"
      ],
      "execution_count": 10,
      "outputs": []
    },
    {
      "cell_type": "code",
      "metadata": {
        "id": "T_5KHRELG9uY"
      },
      "source": [
        "def make_CrewList(x):\n",
        "    gen = []\n",
        "    st = \" \"\n",
        "    for i in x:\n",
        "      gen.append(i.get('name'))\n",
        "    if gen == []:\n",
        "        return np.NaN\n",
        "    else:\n",
        "        return (st.join(gen))\n",
        "\n",
        "data['crew_list'] = data['crew'].map(lambda x: make_keywordsList(x))"
      ],
      "execution_count": 11,
      "outputs": []
    },
    {
      "cell_type": "code",
      "metadata": {
        "id": "Ze3pGDQtALKI"
      },
      "source": [
        "data = data.drop(columns=['genres','cast','keywords','crew'])"
      ],
      "execution_count": 12,
      "outputs": []
    },
    {
      "cell_type": "code",
      "metadata": {
        "colab": {
          "base_uri": "https://localhost:8080/",
          "height": 185
        },
        "id": "DsLQFg8m4JAX",
        "outputId": "fbccb9d3-5345-4812-a53a-204f9b39c776"
      },
      "source": [
        "data.head(1)"
      ],
      "execution_count": 13,
      "outputs": [
        {
          "output_type": "execute_result",
          "data": {
            "text/plain": [
              "      id   title                                           overview  \\\n",
              "0  19995  Avatar  In the 22nd century, a paraplegic Marine is di...   \n",
              "\n",
              "  release_date  vote_average  vote_count  \\\n",
              "0   2009-12-10           7.2       11800   \n",
              "\n",
              "                                genres_list  director_name  index  \\\n",
              "0  Action Adventure Fantasy Science Fiction  James Cameron      0   \n",
              "\n",
              "                                           cast_list  \\\n",
              "0  Sam Worthington Zoe Saldana Sigourney Weaver S...   \n",
              "\n",
              "                                       keywords_list  \\\n",
              "0  culture clash future space war space colony so...   \n",
              "\n",
              "                                           crew_list  \n",
              "0  Stephen E. Rivkin Rick Carter Christopher Boye...  "
            ],
            "text/html": "<div>\n<style scoped>\n    .dataframe tbody tr th:only-of-type {\n        vertical-align: middle;\n    }\n\n    .dataframe tbody tr th {\n        vertical-align: top;\n    }\n\n    .dataframe thead th {\n        text-align: right;\n    }\n</style>\n<table border=\"1\" class=\"dataframe\">\n  <thead>\n    <tr style=\"text-align: right;\">\n      <th></th>\n      <th>id</th>\n      <th>title</th>\n      <th>overview</th>\n      <th>release_date</th>\n      <th>vote_average</th>\n      <th>vote_count</th>\n      <th>genres_list</th>\n      <th>director_name</th>\n      <th>index</th>\n      <th>cast_list</th>\n      <th>keywords_list</th>\n      <th>crew_list</th>\n    </tr>\n  </thead>\n  <tbody>\n    <tr>\n      <th>0</th>\n      <td>19995</td>\n      <td>Avatar</td>\n      <td>In the 22nd century, a paraplegic Marine is di...</td>\n      <td>2009-12-10</td>\n      <td>7.2</td>\n      <td>11800</td>\n      <td>Action Adventure Fantasy Science Fiction</td>\n      <td>James Cameron</td>\n      <td>0</td>\n      <td>Sam Worthington Zoe Saldana Sigourney Weaver S...</td>\n      <td>culture clash future space war space colony so...</td>\n      <td>Stephen E. Rivkin Rick Carter Christopher Boye...</td>\n    </tr>\n  </tbody>\n</table>\n</div>"
          },
          "metadata": {},
          "execution_count": 13
        }
      ]
    },
    {
      "cell_type": "code",
      "metadata": {
        "id": "xxc0H7h2IiAO"
      },
      "source": [
        "data = data.rename(columns={'genres_list':'genre'})\n",
        "data = data.rename(columns={'director_name':'director'})\n",
        "data = data.rename(columns={'cast_list':'cast'})\n",
        "data = data.rename(columns={'keywords_list':'keywords'})\n",
        "data = data.rename(columns={'crew_list':'crew'})"
      ],
      "execution_count": 14,
      "outputs": []
    },
    {
      "cell_type": "code",
      "metadata": {
        "colab": {
          "base_uri": "https://localhost:8080/"
        },
        "id": "Dd7aJqScMgd8",
        "outputId": "7ffb998b-abb7-48df-d53e-92a46ab314b5"
      },
      "source": [
        "data.isnull().sum()"
      ],
      "execution_count": 15,
      "outputs": [
        {
          "output_type": "execute_result",
          "data": {
            "text/plain": [
              "id                0\n",
              "title             0\n",
              "overview          3\n",
              "release_date      1\n",
              "vote_average      0\n",
              "vote_count        0\n",
              "genre            28\n",
              "director         30\n",
              "index             0\n",
              "cast             43\n",
              "keywords        412\n",
              "crew             28\n",
              "dtype: int64"
            ]
          },
          "metadata": {},
          "execution_count": 15
        }
      ]
    },
    {
      "cell_type": "code",
      "metadata": {
        "id": "z7g2PiEoq49f"
      },
      "source": [
        "data['overview'] = data['overview'].fillna('')\n",
        "data['release_date'] = data['release_date'].fillna('')\n",
        "data['genre'] = data['genre'].fillna('')\n",
        "data['director'] = data['director'].fillna('')\n",
        "data['cast'] = data['cast'].fillna('')\n",
        "data['keywords'] = data['keywords'].fillna('')\n",
        "data['crew'] = data['crew'].fillna('')"
      ],
      "execution_count": 16,
      "outputs": []
    },
    {
      "cell_type": "code",
      "metadata": {
        "colab": {
          "base_uri": "https://localhost:8080/"
        },
        "id": "v9qMTfYlrIo7",
        "outputId": "f8ad98df-ec97-4b3f-de79-0cf6bfe0627d"
      },
      "source": [
        "data.isnull().sum()"
      ],
      "execution_count": 17,
      "outputs": [
        {
          "output_type": "execute_result",
          "data": {
            "text/plain": [
              "id              0\n",
              "title           0\n",
              "overview        0\n",
              "release_date    0\n",
              "vote_average    0\n",
              "vote_count      0\n",
              "genre           0\n",
              "director        0\n",
              "index           0\n",
              "cast            0\n",
              "keywords        0\n",
              "crew            0\n",
              "dtype: int64"
            ]
          },
          "metadata": {},
          "execution_count": 17
        }
      ]
    },
    {
      "cell_type": "code",
      "metadata": {
        "colab": {
          "base_uri": "https://localhost:8080/",
          "height": 717
        },
        "id": "kAQRli-IJgSa",
        "outputId": "a1ec160d-8bf5-4fd1-885a-7578675ba578"
      },
      "source": [
        "data.head()"
      ],
      "execution_count": 18,
      "outputs": [
        {
          "output_type": "execute_result",
          "data": {
            "text/plain": [
              "       id                                     title  \\\n",
              "0   19995                                    Avatar   \n",
              "1     285  Pirates of the Caribbean: At World's End   \n",
              "2  206647                                   Spectre   \n",
              "3   49026                     The Dark Knight Rises   \n",
              "4   49529                               John Carter   \n",
              "\n",
              "                                            overview release_date  \\\n",
              "0  In the 22nd century, a paraplegic Marine is di...   2009-12-10   \n",
              "1  Captain Barbossa, long believed to be dead, ha...   2007-05-19   \n",
              "2  A cryptic message from Bond’s past sends him o...   2015-10-26   \n",
              "3  Following the death of District Attorney Harve...   2012-07-16   \n",
              "4  John Carter is a war-weary, former military ca...   2012-03-07   \n",
              "\n",
              "   vote_average  vote_count                                     genre  \\\n",
              "0           7.2       11800  Action Adventure Fantasy Science Fiction   \n",
              "1           6.9        4500                  Adventure Fantasy Action   \n",
              "2           6.3        4466                    Action Adventure Crime   \n",
              "3           7.6        9106               Action Crime Drama Thriller   \n",
              "4           6.1        2124          Action Adventure Science Fiction   \n",
              "\n",
              "            director  index  \\\n",
              "0      James Cameron      0   \n",
              "1     Gore Verbinski      1   \n",
              "2         Sam Mendes      2   \n",
              "3  Christopher Nolan      3   \n",
              "4     Andrew Stanton      4   \n",
              "\n",
              "                                                cast  \\\n",
              "0  Sam Worthington Zoe Saldana Sigourney Weaver S...   \n",
              "1  Johnny Depp Orlando Bloom Keira Knightley Stel...   \n",
              "2  Daniel Craig Christoph Waltz Léa Seydoux Ralph...   \n",
              "3  Christian Bale Michael Caine Gary Oldman Anne ...   \n",
              "4  Taylor Kitsch Lynn Collins Samantha Morton Wil...   \n",
              "\n",
              "                                            keywords  \\\n",
              "0  culture clash future space war space colony so...   \n",
              "1  ocean drug abuse exotic island east india trad...   \n",
              "2  spy based on novel secret agent sequel mi6 bri...   \n",
              "3  dc comics crime fighter terrorist secret ident...   \n",
              "4  based on novel mars medallion space travel pri...   \n",
              "\n",
              "                                                crew  \n",
              "0  Stephen E. Rivkin Rick Carter Christopher Boye...  \n",
              "1  Dariusz Wolski Gore Verbinski Jerry Bruckheime...  \n",
              "2  Thomas Newman Sam Mendes Anna Pinnock John Log...  \n",
              "3  Hans Zimmer Charles Roven Christopher Nolan Ch...  \n",
              "4  Andrew Stanton Andrew Stanton John Lasseter Co...  "
            ],
            "text/html": "<div>\n<style scoped>\n    .dataframe tbody tr th:only-of-type {\n        vertical-align: middle;\n    }\n\n    .dataframe tbody tr th {\n        vertical-align: top;\n    }\n\n    .dataframe thead th {\n        text-align: right;\n    }\n</style>\n<table border=\"1\" class=\"dataframe\">\n  <thead>\n    <tr style=\"text-align: right;\">\n      <th></th>\n      <th>id</th>\n      <th>title</th>\n      <th>overview</th>\n      <th>release_date</th>\n      <th>vote_average</th>\n      <th>vote_count</th>\n      <th>genre</th>\n      <th>director</th>\n      <th>index</th>\n      <th>cast</th>\n      <th>keywords</th>\n      <th>crew</th>\n    </tr>\n  </thead>\n  <tbody>\n    <tr>\n      <th>0</th>\n      <td>19995</td>\n      <td>Avatar</td>\n      <td>In the 22nd century, a paraplegic Marine is di...</td>\n      <td>2009-12-10</td>\n      <td>7.2</td>\n      <td>11800</td>\n      <td>Action Adventure Fantasy Science Fiction</td>\n      <td>James Cameron</td>\n      <td>0</td>\n      <td>Sam Worthington Zoe Saldana Sigourney Weaver S...</td>\n      <td>culture clash future space war space colony so...</td>\n      <td>Stephen E. Rivkin Rick Carter Christopher Boye...</td>\n    </tr>\n    <tr>\n      <th>1</th>\n      <td>285</td>\n      <td>Pirates of the Caribbean: At World's End</td>\n      <td>Captain Barbossa, long believed to be dead, ha...</td>\n      <td>2007-05-19</td>\n      <td>6.9</td>\n      <td>4500</td>\n      <td>Adventure Fantasy Action</td>\n      <td>Gore Verbinski</td>\n      <td>1</td>\n      <td>Johnny Depp Orlando Bloom Keira Knightley Stel...</td>\n      <td>ocean drug abuse exotic island east india trad...</td>\n      <td>Dariusz Wolski Gore Verbinski Jerry Bruckheime...</td>\n    </tr>\n    <tr>\n      <th>2</th>\n      <td>206647</td>\n      <td>Spectre</td>\n      <td>A cryptic message from Bond’s past sends him o...</td>\n      <td>2015-10-26</td>\n      <td>6.3</td>\n      <td>4466</td>\n      <td>Action Adventure Crime</td>\n      <td>Sam Mendes</td>\n      <td>2</td>\n      <td>Daniel Craig Christoph Waltz Léa Seydoux Ralph...</td>\n      <td>spy based on novel secret agent sequel mi6 bri...</td>\n      <td>Thomas Newman Sam Mendes Anna Pinnock John Log...</td>\n    </tr>\n    <tr>\n      <th>3</th>\n      <td>49026</td>\n      <td>The Dark Knight Rises</td>\n      <td>Following the death of District Attorney Harve...</td>\n      <td>2012-07-16</td>\n      <td>7.6</td>\n      <td>9106</td>\n      <td>Action Crime Drama Thriller</td>\n      <td>Christopher Nolan</td>\n      <td>3</td>\n      <td>Christian Bale Michael Caine Gary Oldman Anne ...</td>\n      <td>dc comics crime fighter terrorist secret ident...</td>\n      <td>Hans Zimmer Charles Roven Christopher Nolan Ch...</td>\n    </tr>\n    <tr>\n      <th>4</th>\n      <td>49529</td>\n      <td>John Carter</td>\n      <td>John Carter is a war-weary, former military ca...</td>\n      <td>2012-03-07</td>\n      <td>6.1</td>\n      <td>2124</td>\n      <td>Action Adventure Science Fiction</td>\n      <td>Andrew Stanton</td>\n      <td>4</td>\n      <td>Taylor Kitsch Lynn Collins Samantha Morton Wil...</td>\n      <td>based on novel mars medallion space travel pri...</td>\n      <td>Andrew Stanton Andrew Stanton John Lasseter Co...</td>\n    </tr>\n  </tbody>\n</table>\n</div>"
          },
          "metadata": {},
          "execution_count": 18
        }
      ]
    },
    {
      "cell_type": "code",
      "metadata": {
        "id": "ufzoiq4mG6P6"
      },
      "source": [
        "# data.to_csv('cleaned_dataset.csv', index=False)"
      ],
      "execution_count": 19,
      "outputs": []
    },
    {
      "cell_type": "code",
      "execution_count": 20,
      "metadata": {},
      "outputs": [],
      "source": [
        "res = 0\n",
        "v = data['vote_count'] \n",
        "R = data['vote_average'] \n",
        "C = data['vote_average'].mean() \n",
        "m = data['vote_count'].quantile(0.70) \n",
        "\n",
        "res = round(((R*v)+ (C*m))/(v+m), 1)\n",
        "\n",
        "data['weighted_average'] = res\n",
        "\n",
        "movie_sorted_ranking = data.sort_values('weighted_average',ascending=False)"
      ]
    },
    {
      "cell_type": "code",
      "execution_count": 21,
      "metadata": {},
      "outputs": [],
      "source": [
        "features = ['cast', 'keywords', 'director', 'genre']\n",
        "\n",
        "for feature in features:\n",
        "    data[feature] = data[feature].fillna('')\n",
        "def combined_features(row):\n",
        "    return row['cast'] + \" \" + row['keywords'] + \" \" + row['director']+ \" \" +row['genre']\n",
        "\n",
        "data['combining'] = data.apply(combined_features, axis=1)"
      ]
    },
    {
      "cell_type": "code",
      "execution_count": 22,
      "metadata": {},
      "outputs": [],
      "source": [
        "data['combining'] = data['combining'].fillna('')"
      ]
    },
    {
      "cell_type": "code",
      "execution_count": 23,
      "metadata": {},
      "outputs": [
        {
          "output_type": "execute_result",
          "data": {
            "text/plain": [
              "id                  0\n",
              "title               0\n",
              "overview            0\n",
              "release_date        0\n",
              "vote_average        0\n",
              "vote_count          0\n",
              "genre               0\n",
              "director            0\n",
              "index               0\n",
              "cast                0\n",
              "keywords            0\n",
              "crew                0\n",
              "weighted_average    0\n",
              "combining           0\n",
              "dtype: int64"
            ]
          },
          "metadata": {},
          "execution_count": 23
        }
      ],
      "source": [
        "data.isnull().sum()"
      ]
    },
    {
      "cell_type": "code",
      "execution_count": 24,
      "metadata": {},
      "outputs": [
        {
          "output_type": "execute_result",
          "data": {
            "text/plain": [
              "       id                                     title  \\\n",
              "0   19995                                    Avatar   \n",
              "1     285  Pirates of the Caribbean: At World's End   \n",
              "2  206647                                   Spectre   \n",
              "3   49026                     The Dark Knight Rises   \n",
              "4   49529                               John Carter   \n",
              "\n",
              "                                            overview release_date  \\\n",
              "0  In the 22nd century, a paraplegic Marine is di...   2009-12-10   \n",
              "1  Captain Barbossa, long believed to be dead, ha...   2007-05-19   \n",
              "2  A cryptic message from Bond’s past sends him o...   2015-10-26   \n",
              "3  Following the death of District Attorney Harve...   2012-07-16   \n",
              "4  John Carter is a war-weary, former military ca...   2012-03-07   \n",
              "\n",
              "   vote_average  vote_count                                     genre  \\\n",
              "0           7.2       11800  Action Adventure Fantasy Science Fiction   \n",
              "1           6.9        4500                  Adventure Fantasy Action   \n",
              "2           6.3        4466                    Action Adventure Crime   \n",
              "3           7.6        9106               Action Crime Drama Thriller   \n",
              "4           6.1        2124          Action Adventure Science Fiction   \n",
              "\n",
              "            director  index  \\\n",
              "0      James Cameron      0   \n",
              "1     Gore Verbinski      1   \n",
              "2         Sam Mendes      2   \n",
              "3  Christopher Nolan      3   \n",
              "4     Andrew Stanton      4   \n",
              "\n",
              "                                                cast  \\\n",
              "0  Sam Worthington Zoe Saldana Sigourney Weaver S...   \n",
              "1  Johnny Depp Orlando Bloom Keira Knightley Stel...   \n",
              "2  Daniel Craig Christoph Waltz Léa Seydoux Ralph...   \n",
              "3  Christian Bale Michael Caine Gary Oldman Anne ...   \n",
              "4  Taylor Kitsch Lynn Collins Samantha Morton Wil...   \n",
              "\n",
              "                                            keywords  \\\n",
              "0  culture clash future space war space colony so...   \n",
              "1  ocean drug abuse exotic island east india trad...   \n",
              "2  spy based on novel secret agent sequel mi6 bri...   \n",
              "3  dc comics crime fighter terrorist secret ident...   \n",
              "4  based on novel mars medallion space travel pri...   \n",
              "\n",
              "                                                crew  weighted_average  \\\n",
              "0  Stephen E. Rivkin Rick Carter Christopher Boye...               7.1   \n",
              "1  Dariusz Wolski Gore Verbinski Jerry Bruckheime...               6.8   \n",
              "2  Thomas Newman Sam Mendes Anna Pinnock John Log...               6.3   \n",
              "3  Hans Zimmer Charles Roven Christopher Nolan Ch...               7.5   \n",
              "4  Andrew Stanton Andrew Stanton John Lasseter Co...               6.1   \n",
              "\n",
              "                                           combining  \n",
              "0  Sam Worthington Zoe Saldana Sigourney Weaver S...  \n",
              "1  Johnny Depp Orlando Bloom Keira Knightley Stel...  \n",
              "2  Daniel Craig Christoph Waltz Léa Seydoux Ralph...  \n",
              "3  Christian Bale Michael Caine Gary Oldman Anne ...  \n",
              "4  Taylor Kitsch Lynn Collins Samantha Morton Wil...  "
            ],
            "text/html": "<div>\n<style scoped>\n    .dataframe tbody tr th:only-of-type {\n        vertical-align: middle;\n    }\n\n    .dataframe tbody tr th {\n        vertical-align: top;\n    }\n\n    .dataframe thead th {\n        text-align: right;\n    }\n</style>\n<table border=\"1\" class=\"dataframe\">\n  <thead>\n    <tr style=\"text-align: right;\">\n      <th></th>\n      <th>id</th>\n      <th>title</th>\n      <th>overview</th>\n      <th>release_date</th>\n      <th>vote_average</th>\n      <th>vote_count</th>\n      <th>genre</th>\n      <th>director</th>\n      <th>index</th>\n      <th>cast</th>\n      <th>keywords</th>\n      <th>crew</th>\n      <th>weighted_average</th>\n      <th>combining</th>\n    </tr>\n  </thead>\n  <tbody>\n    <tr>\n      <th>0</th>\n      <td>19995</td>\n      <td>Avatar</td>\n      <td>In the 22nd century, a paraplegic Marine is di...</td>\n      <td>2009-12-10</td>\n      <td>7.2</td>\n      <td>11800</td>\n      <td>Action Adventure Fantasy Science Fiction</td>\n      <td>James Cameron</td>\n      <td>0</td>\n      <td>Sam Worthington Zoe Saldana Sigourney Weaver S...</td>\n      <td>culture clash future space war space colony so...</td>\n      <td>Stephen E. Rivkin Rick Carter Christopher Boye...</td>\n      <td>7.1</td>\n      <td>Sam Worthington Zoe Saldana Sigourney Weaver S...</td>\n    </tr>\n    <tr>\n      <th>1</th>\n      <td>285</td>\n      <td>Pirates of the Caribbean: At World's End</td>\n      <td>Captain Barbossa, long believed to be dead, ha...</td>\n      <td>2007-05-19</td>\n      <td>6.9</td>\n      <td>4500</td>\n      <td>Adventure Fantasy Action</td>\n      <td>Gore Verbinski</td>\n      <td>1</td>\n      <td>Johnny Depp Orlando Bloom Keira Knightley Stel...</td>\n      <td>ocean drug abuse exotic island east india trad...</td>\n      <td>Dariusz Wolski Gore Verbinski Jerry Bruckheime...</td>\n      <td>6.8</td>\n      <td>Johnny Depp Orlando Bloom Keira Knightley Stel...</td>\n    </tr>\n    <tr>\n      <th>2</th>\n      <td>206647</td>\n      <td>Spectre</td>\n      <td>A cryptic message from Bond’s past sends him o...</td>\n      <td>2015-10-26</td>\n      <td>6.3</td>\n      <td>4466</td>\n      <td>Action Adventure Crime</td>\n      <td>Sam Mendes</td>\n      <td>2</td>\n      <td>Daniel Craig Christoph Waltz Léa Seydoux Ralph...</td>\n      <td>spy based on novel secret agent sequel mi6 bri...</td>\n      <td>Thomas Newman Sam Mendes Anna Pinnock John Log...</td>\n      <td>6.3</td>\n      <td>Daniel Craig Christoph Waltz Léa Seydoux Ralph...</td>\n    </tr>\n    <tr>\n      <th>3</th>\n      <td>49026</td>\n      <td>The Dark Knight Rises</td>\n      <td>Following the death of District Attorney Harve...</td>\n      <td>2012-07-16</td>\n      <td>7.6</td>\n      <td>9106</td>\n      <td>Action Crime Drama Thriller</td>\n      <td>Christopher Nolan</td>\n      <td>3</td>\n      <td>Christian Bale Michael Caine Gary Oldman Anne ...</td>\n      <td>dc comics crime fighter terrorist secret ident...</td>\n      <td>Hans Zimmer Charles Roven Christopher Nolan Ch...</td>\n      <td>7.5</td>\n      <td>Christian Bale Michael Caine Gary Oldman Anne ...</td>\n    </tr>\n    <tr>\n      <th>4</th>\n      <td>49529</td>\n      <td>John Carter</td>\n      <td>John Carter is a war-weary, former military ca...</td>\n      <td>2012-03-07</td>\n      <td>6.1</td>\n      <td>2124</td>\n      <td>Action Adventure Science Fiction</td>\n      <td>Andrew Stanton</td>\n      <td>4</td>\n      <td>Taylor Kitsch Lynn Collins Samantha Morton Wil...</td>\n      <td>based on novel mars medallion space travel pri...</td>\n      <td>Andrew Stanton Andrew Stanton John Lasseter Co...</td>\n      <td>6.1</td>\n      <td>Taylor Kitsch Lynn Collins Samantha Morton Wil...</td>\n    </tr>\n  </tbody>\n</table>\n</div>"
          },
          "metadata": {},
          "execution_count": 24
        }
      ],
      "source": [
        "data.head()"
      ]
    },
    {
      "cell_type": "code",
      "execution_count": null,
      "metadata": {},
      "outputs": [],
      "source": []
    },
    {
      "cell_type": "code",
      "execution_count": 26,
      "metadata": {},
      "outputs": [],
      "source": [
        "data.to_csv('testing_dataset.csv', index=False)"
      ]
    },
    {
      "cell_type": "code",
      "execution_count": null,
      "metadata": {},
      "outputs": [],
      "source": []
    }
  ]
}