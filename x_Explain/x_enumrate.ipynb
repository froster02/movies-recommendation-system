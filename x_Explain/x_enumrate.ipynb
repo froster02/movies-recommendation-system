{
 "metadata": {
  "language_info": {
   "codemirror_mode": {
    "name": "ipython",
    "version": 3
   },
   "file_extension": ".py",
   "mimetype": "text/x-python",
   "name": "python",
   "nbconvert_exporter": "python",
   "pygments_lexer": "ipython3",
   "version": "3.9.5"
  },
  "orig_nbformat": 2,
  "kernelspec": {
   "name": "python395jvsc74a57bd0622a47752f74dca0184b78013705ca0abde51c39eaa1b0a540e4850d7a7b1e3d",
   "display_name": "Python 3.9.5 64-bit ('venv': venv)",
   "language": "python"
  }
 },
 "nbformat": 4,
 "nbformat_minor": 2,
 "cells": [
  {
   "cell_type": "code",
   "execution_count": 2,
   "metadata": {},
   "outputs": [
    {
     "output_type": "stream",
     "name": "stdout",
     "text": [
      "Return type: <class 'enumerate'>\n[(0, 'eat'), (1, 'sleep'), (2, 'repeat')]\n[(2, 'g'), (3, 'e'), (4, 'e'), (5, 'k')]\n"
     ]
    }
   ],
   "source": [
    "# Python program to illustrate\n",
    "# enumerate function\n",
    "l1 = [\"eat\",\"sleep\",\"repeat\"]\n",
    "s1 = \"geek\"\n",
    "\n",
    "# creating enumerate objects\n",
    "obj1 = enumerate(l1)\n",
    "obj2 = enumerate(s1)\n",
    "\n",
    "print (\"Return type:\",type(obj1))\n",
    "print (list(enumerate(l1)))\n",
    "\n",
    "# changing start index to 2 from 0\n",
    "print (list(enumerate(s1,2)))\n"
   ]
  },
  {
   "cell_type": "code",
   "execution_count": null,
   "metadata": {},
   "outputs": [],
   "source": []
  }
 ]
}