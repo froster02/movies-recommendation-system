{
 "metadata": {
  "language_info": {
   "codemirror_mode": {
    "name": "ipython",
    "version": 3
   },
   "file_extension": ".py",
   "mimetype": "text/x-python",
   "name": "python",
   "nbconvert_exporter": "python",
   "pygments_lexer": "ipython3",
   "version": "3.9.5"
  },
  "orig_nbformat": 2,
  "kernelspec": {
   "name": "python395jvsc74a57bd0622a47752f74dca0184b78013705ca0abde51c39eaa1b0a540e4850d7a7b1e3d",
   "display_name": "Python 3.9.5 64-bit ('venv': venv)",
   "language": "python"
  }
 },
 "nbformat": 4,
 "nbformat_minor": 2,
 "cells": [
  {
   "cell_type": "code",
   "execution_count": 3,
   "metadata": {},
   "outputs": [
    {
     "output_type": "stream",
     "name": "stdout",
     "text": [
      "Cosine Similarity : 0.7241379310344827\nCosine Distance   : 0.27586206896551735\n"
     ]
    }
   ],
   "source": [
    "import numpy as np\n",
    "\n",
    "# consider two vectors A and B in 2-D\n",
    "A=np.array([7,3])\n",
    "B=np.array([3,7])\n",
    "\n",
    "# cosine similarity between A and B\n",
    "cos_sim=np.dot(A,B)/(np.linalg.norm(A)*np.linalg.norm(B))\n",
    "print (f\"Cosine Similarity : {cos_sim}\")\n",
    "print (f\"Cosine Distance   : {1-cos_sim}\")\n"
   ]
  },
  {
   "cell_type": "code",
   "execution_count": null,
   "metadata": {},
   "outputs": [],
   "source": []
  }
 ]
}