{
 "metadata": {
  "language_info": {
   "codemirror_mode": {
    "name": "ipython",
    "version": 3
   },
   "file_extension": ".py",
   "mimetype": "text/x-python",
   "name": "python",
   "nbconvert_exporter": "python",
   "pygments_lexer": "ipython3",
   "version": "3.9.5"
  },
  "orig_nbformat": 2,
  "kernelspec": {
   "name": "python395jvsc74a57bd050ff39552d2a7adf301633425918e3cb36cc3ab2aaa0b9a3b3ce1901a1e3c510",
   "display_name": "Python 3.9.5  ('venv': venv)"
  }
 },
 "nbformat": 4,
 "nbformat_minor": 2,
 "cells": [
  {
   "cell_type": "code",
   "execution_count": 1,
   "metadata": {},
   "outputs": [
    {
     "output_type": "stream",
     "name": "stdout",
     "text": [
      "Cosine Similarity : 0.7241379310344827\nCosine Distance   : 0.27586206896551735\n"
     ]
    }
   ],
   "source": [
    "import numpy as np\n",
    "\n",
    "# consider two vectors A and B in 2-D\n",
    "A=np.array([7,3])\n",
    "B=np.array([3,7])\n",
    "\n",
    "# cosine similarity between A and B\n",
    "cos_sim=np.dot(A,B)/(np.linalg.norm(A)*np.linalg.norm(B))\n",
    "print (f\"Cosine Similarity : {cos_sim}\")\n",
    "print (f\"Cosine Distance   : {1-cos_sim}\")\n"
   ]
  },
  {
   "cell_type": "code",
   "execution_count": null,
   "metadata": {},
   "outputs": [],
   "source": [
    "# https://github.com/scikit-learn/scikit-learn/blob/main/sklearn/metrics/pairwise.py\n",
    "\n",
    "def cosine_similarity(X, Y=None, dense_output=True):\n",
    "    \"\"\"Compute cosine similarity between samples in X and Y.\n",
    "    Cosine similarity, or the cosine kernel, computes similarity as the\n",
    "    normalized dot product of X and Y:\n",
    "        K(X, Y) = <X, Y> / (||X||*||Y||)\n",
    "    On L2-normalized data, this function is equivalent to linear_kernel.\n",
    "    Read more in the :ref:`User Guide <cosine_similarity>`.\n",
    "    Parameters\n",
    "    ----------\n",
    "    X : {ndarray, sparse matrix} of shape (n_samples_X, n_features)\n",
    "        Input data.\n",
    "    Y : {ndarray, sparse matrix} of shape (n_samples_Y, n_features), \\\n",
    "            default=None\n",
    "        Input data. If ``None``, the output will be the pairwise\n",
    "        similarities between all samples in ``X``.\n",
    "    dense_output : bool, default=True\n",
    "        Whether to return dense output even when the input is sparse. If\n",
    "        ``False``, the output is sparse if both input arrays are sparse.\n",
    "        .. versionadded:: 0.17\n",
    "           parameter ``dense_output`` for dense output.\n",
    "    Returns\n",
    "    -------\n",
    "    kernel matrix : ndarray of shape (n_samples_X, n_samples_Y)\n",
    "    \"\"\"\n",
    "    # to avoid recursive import\n",
    "\n",
    "    X, Y = check_pairwise_arrays(X, Y)\n",
    "\n",
    "    X_normalized = normalize(X, copy=True)\n",
    "    if X is Y:\n",
    "        Y_normalized = X_normalized\n",
    "    else:\n",
    "        Y_normalized = normalize(Y, copy=True)\n",
    "\n",
    "    K = safe_sparse_dot(X_normalized, Y_normalized.T,\n",
    "                        dense_output=dense_output)\n",
    "\n",
    "    return K"
   ]
  }
 ]
}