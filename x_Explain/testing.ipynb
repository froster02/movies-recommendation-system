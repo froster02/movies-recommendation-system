{
 "metadata": {
  "language_info": {
   "codemirror_mode": {
    "name": "ipython",
    "version": 3
   },
   "file_extension": ".py",
   "mimetype": "text/x-python",
   "name": "python",
   "nbconvert_exporter": "python",
   "pygments_lexer": "ipython3",
   "version": "3.9.5"
  },
  "orig_nbformat": 2,
  "kernelspec": {
   "name": "pythonjvsc74a57bd050ff39552d2a7adf301633425918e3cb36cc3ab2aaa0b9a3b3ce1901a1e3c510",
   "display_name": "Python 3.9.5  ('venv': venv)"
  },
  "metadata": {
   "interpreter": {
    "hash": "50ff39552d2a7adf301633425918e3cb36cc3ab2aaa0b9a3b3ce1901a1e3c510"
   }
  }
 },
 "nbformat": 4,
 "nbformat_minor": 2,
 "cells": [
  {
   "cell_type": "code",
   "execution_count": 10,
   "metadata": {},
   "outputs": [
    {
     "output_type": "stream",
     "name": "stdout",
     "text": [
      "error\n"
     ]
    }
   ],
   "source": [
    "import pymongo\n",
    "try:\n",
    "    client = pymongo.MongoClient(\"mongodb://movie:movie@<cluster-url>/test?retryWrites=true&w=majority\")\n",
    "    client.server_info()\n",
    "except pymongo.errors.ServerSelectionTimeoutError as err:\n",
    "    # do whatever you need\n",
    "    print(\"error\")"
   ]
  },
  {
   "cell_type": "code",
   "execution_count": null,
   "metadata": {},
   "outputs": [],
   "source": []
  }
 ]
}