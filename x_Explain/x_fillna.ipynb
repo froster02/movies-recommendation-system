{
 "metadata": {
  "language_info": {
   "codemirror_mode": {
    "name": "ipython",
    "version": 3
   },
   "file_extension": ".py",
   "mimetype": "text/x-python",
   "name": "python",
   "nbconvert_exporter": "python",
   "pygments_lexer": "ipython3",
   "version": "3.9.5"
  },
  "orig_nbformat": 2,
  "kernelspec": {
   "name": "python395jvsc74a57bd0622a47752f74dca0184b78013705ca0abde51c39eaa1b0a540e4850d7a7b1e3d",
   "display_name": "Python 3.9.5 64-bit ('venv': venv)",
   "language": "python"
  }
 },
 "nbformat": 4,
 "nbformat_minor": 2,
 "cells": [
  {
   "cell_type": "code",
   "execution_count": 1,
   "metadata": {},
   "outputs": [
    {
     "output_type": "stream",
     "name": "stdout",
     "text": [
      "DataFrame:\n   X    Y\n0  1  4.0\n1  2  NaN\n2  3  8.0\n3     NaN\n4  3  3.0\nFilled DataFrame:\n   X    Y\n0  1  4.0\n1  2  NaN\n2  3  8.0\n3     NaN\n4  3  3.0\n"
     ]
    }
   ],
   "source": [
    "import pandas as pd\n",
    "import numpy as np\n",
    "\n",
    "df = pd.DataFrame({'X': [1, 2,      3, '', 3],\n",
    "                   'Y': [4, np.nan, 8, np.nan, 3]})\n",
    "print(\"DataFrame:\")\n",
    "print(df)\n",
    "\n",
    "df.fillna('')\n",
    "\n",
    "print(\"Filled DataFrame:\")\n",
    "print(df)"
   ]
  },
  {
   "cell_type": "code",
   "execution_count": null,
   "metadata": {},
   "outputs": [],
   "source": []
  }
 ]
}