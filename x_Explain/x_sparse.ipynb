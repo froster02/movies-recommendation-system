{
 "metadata": {
  "language_info": {
   "codemirror_mode": {
    "name": "ipython",
    "version": 3
   },
   "file_extension": ".py",
   "mimetype": "text/x-python",
   "name": "python",
   "nbconvert_exporter": "python",
   "pygments_lexer": "ipython3",
   "version": "3.9.5"
  },
  "orig_nbformat": 2,
  "kernelspec": {
   "name": "python395jvsc74a57bd0622a47752f74dca0184b78013705ca0abde51c39eaa1b0a540e4850d7a7b1e3d",
   "display_name": "Python 3.9.5 64-bit ('venv': venv)",
   "language": "python"
  }
 },
 "nbformat": 4,
 "nbformat_minor": 2,
 "cells": [
  {
   "cell_type": "code",
   "execution_count": 3,
   "metadata": {},
   "outputs": [
    {
     "output_type": "stream",
     "name": "stdout",
     "text": [
      "Dense matrix representation: \n [[1 0 0 0 0 0]\n [0 0 2 0 0 1]\n [0 0 0 2 0 0]]\nSparse matrix: \n   (0, 0)\t1\n  (1, 2)\t2\n  (1, 5)\t1\n  (2, 3)\t2\n"
     ]
    }
   ],
   "source": [
    "import numpy as np\n",
    "from scipy.sparse import csr_matrix\n",
    "\n",
    "# create a 2-D representation of the matrix\n",
    "A = np.array([[1, 0, 0, 0, 0, 0], [0, 0, 2, 0, 0, 1],\\\n",
    " [0, 0, 0, 2, 0, 0]])\n",
    "print(\"Dense matrix representation: \\n\", A)\n",
    "\n",
    "# convert to sparse matrix representation \n",
    "S = csr_matrix(A)\n",
    "print(\"Sparse matrix: \\n\",S)\n"
   ]
  },
  {
   "cell_type": "code",
   "execution_count": null,
   "metadata": {},
   "outputs": [],
   "source": []
  }
 ]
}