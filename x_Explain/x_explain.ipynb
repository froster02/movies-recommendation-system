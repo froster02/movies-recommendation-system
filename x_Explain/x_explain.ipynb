{
 "metadata": {
  "language_info": {
   "codemirror_mode": {
    "name": "ipython",
    "version": 3
   },
   "file_extension": ".py",
   "mimetype": "text/x-python",
   "name": "python",
   "nbconvert_exporter": "python",
   "pygments_lexer": "ipython3",
   "version": "3.9.5"
  },
  "orig_nbformat": 2,
  "kernelspec": {
   "name": "python395jvsc74a57bd0622a47752f74dca0184b78013705ca0abde51c39eaa1b0a540e4850d7a7b1e3d",
   "display_name": "Python 3.9.5 64-bit ('venv': venv)",
   "language": "python"
  }
 },
 "nbformat": 4,
 "nbformat_minor": 2,
 "cells": [
  {
   "cell_type": "code",
   "execution_count": 10,
   "metadata": {},
   "outputs": [],
   "source": [
    "from sklearn.metrics.pairwise import cosine_similarity\n",
    "import numpy as np"
   ]
  },
  {
   "cell_type": "code",
   "execution_count": 11,
   "metadata": {},
   "outputs": [
    {
     "output_type": "stream",
     "name": "stdout",
     "text": [
      "[[0.81649658]]\n"
     ]
    }
   ],
   "source": [
    "v1 = np.array([[1, 1, 0, 1]])\n",
    "v2 = np.array([[0, 1, 0, 1]])\n",
    "cos_sim = cosine_similarity(v1, v2)\n",
    "print(cos_sim)"
   ]
  },
  {
   "cell_type": "code",
   "execution_count": 12,
   "metadata": {},
   "outputs": [
    {
     "output_type": "stream",
     "name": "stdout",
     "text": [
      "[[0.18350342]]\n"
     ]
    }
   ],
   "source": [
    "cosine_distance = 1 - cos_sim\n",
    "print(cosine_distance)"
   ]
  },
  {
   "cell_type": "code",
   "execution_count": 13,
   "metadata": {},
   "outputs": [
    {
     "output_type": "stream",
     "name": "stdout",
     "text": [
      "[[0.63299316]]\n"
     ]
    }
   ],
   "source": [
    "diff = cos_sim - cosine_distance\n",
    "print(diff)"
   ]
  },
  {
   "cell_type": "code",
   "execution_count": 14,
   "metadata": {},
   "outputs": [],
   "source": [
    "# example 2"
   ]
  },
  {
   "cell_type": "code",
   "execution_count": 15,
   "metadata": {},
   "outputs": [],
   "source": [
    "from math import sqrt"
   ]
  },
  {
   "cell_type": "code",
   "execution_count": 16,
   "metadata": {},
   "outputs": [],
   "source": [
    "v1 = [3, 8, 7, 5, 2, 9]\n",
    "v2 = [10, 8, 6, 6, 4, 5]\n",
    "\n",
    "sumt = 0\n",
    "sumv1 = 0\n",
    "sumv2 = 0\n",
    "\n",
    "for i, j in zip(v1, v2):\n",
    "    sumv1 += i * i\n",
    "    sumv2 += j * j\n",
    "    sumt += i * j"
   ]
  },
  {
   "cell_type": "code",
   "execution_count": 17,
   "metadata": {},
   "outputs": [
    {
     "output_type": "stream",
     "name": "stdout",
     "text": [
      "0.86\n"
     ]
    }
   ],
   "source": [
    "cosineSim = sumt / ((sqrt(sumv1)) * (sqrt(sumv2)))\n",
    "print(round(cosineSim, 2))"
   ]
  }
 ]
}