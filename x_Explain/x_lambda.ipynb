{
 "metadata": {
  "language_info": {
   "codemirror_mode": {
    "name": "ipython",
    "version": 3
   },
   "file_extension": ".py",
   "mimetype": "text/x-python",
   "name": "python",
   "nbconvert_exporter": "python",
   "pygments_lexer": "ipython3",
   "version": "3.9.5"
  },
  "orig_nbformat": 2,
  "kernelspec": {
   "name": "python395jvsc74a57bd0622a47752f74dca0184b78013705ca0abde51c39eaa1b0a540e4850d7a7b1e3d",
   "display_name": "Python 3.9.5 64-bit ('venv': venv)",
   "language": "python"
  }
 },
 "nbformat": 4,
 "nbformat_minor": 2,
 "cells": [
  {
   "cell_type": "code",
   "execution_count": 4,
   "metadata": {},
   "outputs": [
    {
     "output_type": "stream",
     "name": "stdout",
     "text": [
      "[('A', 'X', 1100), ('B', 'Y', 2000), ('C', 'Z', 1700)]\n\n[('A', 'X', 1100), ('B', 'Y', 2000), ('C', 'Z', 1700)]\n\n[('A', 'X', 1100), ('C', 'Z', 1700), ('B', 'Y', 2000)]\n"
     ]
    }
   ],
   "source": [
    "cars = [('A', 'X', 1100), ('B', 'Y', 2000), ('C', 'Z', 1700)]\n",
    "\n",
    "print(sorted(cars, key=lambda car: car[0]))\n",
    "print()\n",
    "print(sorted(cars, key=lambda car: car[1]))\n",
    "print()\n",
    "print(sorted(cars, key=lambda car: car[2]))"
   ]
  },
  {
   "cell_type": "code",
   "execution_count": null,
   "metadata": {},
   "outputs": [],
   "source": []
  }
 ]
}