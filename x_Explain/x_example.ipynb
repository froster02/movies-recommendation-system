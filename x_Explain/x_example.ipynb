{
 "metadata": {
  "language_info": {
   "codemirror_mode": {
    "name": "ipython",
    "version": 3
   },
   "file_extension": ".py",
   "mimetype": "text/x-python",
   "name": "python",
   "nbconvert_exporter": "python",
   "pygments_lexer": "ipython3",
   "version": "3.9.5"
  },
  "orig_nbformat": 2,
  "kernelspec": {
   "name": "python395jvsc74a57bd0622a47752f74dca0184b78013705ca0abde51c39eaa1b0a540e4850d7a7b1e3d",
   "display_name": "Python 3.9.5 64-bit ('venv': venv)",
   "language": "python"
  },
  "metadata": {
   "interpreter": {
    "hash": "622a47752f74dca0184b78013705ca0abde51c39eaa1b0a540e4850d7a7b1e3d"
   }
  }
 },
 "nbformat": 4,
 "nbformat_minor": 2,
 "cells": [
  {
   "cell_type": "code",
   "execution_count": 157,
   "metadata": {},
   "outputs": [],
   "source": [
    "# IMPORT LIBRARIES\n",
    "import pandas as pd\n",
    "import difflib"
   ]
  },
  {
   "cell_type": "code",
   "execution_count": 158,
   "metadata": {},
   "outputs": [
    {
     "output_type": "error",
     "ename": "FileNotFoundError",
     "evalue": "[Errno 2] No such file or directory: 'imdb.csv'",
     "traceback": [
      "\u001b[0;31m---------------------------------------------------------------------------\u001b[0m",
      "\u001b[0;31mFileNotFoundError\u001b[0m                         Traceback (most recent call last)",
      "\u001b[0;32m<ipython-input-158-a900ab17ef51>\u001b[0m in \u001b[0;36m<module>\u001b[0;34m\u001b[0m\n\u001b[1;32m      1\u001b[0m \u001b[0;31m# GET DATA\u001b[0m\u001b[0;34m\u001b[0m\u001b[0;34m\u001b[0m\u001b[0;34m\u001b[0m\u001b[0m\n\u001b[0;32m----> 2\u001b[0;31m \u001b[0mdf\u001b[0m\u001b[0;34m=\u001b[0m\u001b[0mpd\u001b[0m\u001b[0;34m.\u001b[0m\u001b[0mread_csv\u001b[0m\u001b[0;34m(\u001b[0m\u001b[0;34m\"imdb.csv\"\u001b[0m\u001b[0;34m)\u001b[0m\u001b[0;34m\u001b[0m\u001b[0;34m\u001b[0m\u001b[0m\n\u001b[0m",
      "\u001b[0;32m/Library/Frameworks/Python.framework/Versions/3.9/lib/python3.9/site-packages/pandas/io/parsers.py\u001b[0m in \u001b[0;36mread_csv\u001b[0;34m(filepath_or_buffer, sep, delimiter, header, names, index_col, usecols, squeeze, prefix, mangle_dupe_cols, dtype, engine, converters, true_values, false_values, skipinitialspace, skiprows, skipfooter, nrows, na_values, keep_default_na, na_filter, verbose, skip_blank_lines, parse_dates, infer_datetime_format, keep_date_col, date_parser, dayfirst, cache_dates, iterator, chunksize, compression, thousands, decimal, lineterminator, quotechar, quoting, doublequote, escapechar, comment, encoding, dialect, error_bad_lines, warn_bad_lines, delim_whitespace, low_memory, memory_map, float_precision, storage_options)\u001b[0m\n\u001b[1;32m    608\u001b[0m     \u001b[0mkwds\u001b[0m\u001b[0;34m.\u001b[0m\u001b[0mupdate\u001b[0m\u001b[0;34m(\u001b[0m\u001b[0mkwds_defaults\u001b[0m\u001b[0;34m)\u001b[0m\u001b[0;34m\u001b[0m\u001b[0;34m\u001b[0m\u001b[0m\n\u001b[1;32m    609\u001b[0m \u001b[0;34m\u001b[0m\u001b[0m\n\u001b[0;32m--> 610\u001b[0;31m     \u001b[0;32mreturn\u001b[0m \u001b[0m_read\u001b[0m\u001b[0;34m(\u001b[0m\u001b[0mfilepath_or_buffer\u001b[0m\u001b[0;34m,\u001b[0m \u001b[0mkwds\u001b[0m\u001b[0;34m)\u001b[0m\u001b[0;34m\u001b[0m\u001b[0;34m\u001b[0m\u001b[0m\n\u001b[0m\u001b[1;32m    611\u001b[0m \u001b[0;34m\u001b[0m\u001b[0m\n\u001b[1;32m    612\u001b[0m \u001b[0;34m\u001b[0m\u001b[0m\n",
      "\u001b[0;32m/Library/Frameworks/Python.framework/Versions/3.9/lib/python3.9/site-packages/pandas/io/parsers.py\u001b[0m in \u001b[0;36m_read\u001b[0;34m(filepath_or_buffer, kwds)\u001b[0m\n\u001b[1;32m    460\u001b[0m \u001b[0;34m\u001b[0m\u001b[0m\n\u001b[1;32m    461\u001b[0m     \u001b[0;31m# Create the parser.\u001b[0m\u001b[0;34m\u001b[0m\u001b[0;34m\u001b[0m\u001b[0;34m\u001b[0m\u001b[0m\n\u001b[0;32m--> 462\u001b[0;31m     \u001b[0mparser\u001b[0m \u001b[0;34m=\u001b[0m \u001b[0mTextFileReader\u001b[0m\u001b[0;34m(\u001b[0m\u001b[0mfilepath_or_buffer\u001b[0m\u001b[0;34m,\u001b[0m \u001b[0;34m**\u001b[0m\u001b[0mkwds\u001b[0m\u001b[0;34m)\u001b[0m\u001b[0;34m\u001b[0m\u001b[0;34m\u001b[0m\u001b[0m\n\u001b[0m\u001b[1;32m    463\u001b[0m \u001b[0;34m\u001b[0m\u001b[0m\n\u001b[1;32m    464\u001b[0m     \u001b[0;32mif\u001b[0m \u001b[0mchunksize\u001b[0m \u001b[0;32mor\u001b[0m \u001b[0miterator\u001b[0m\u001b[0;34m:\u001b[0m\u001b[0;34m\u001b[0m\u001b[0;34m\u001b[0m\u001b[0m\n",
      "\u001b[0;32m/Library/Frameworks/Python.framework/Versions/3.9/lib/python3.9/site-packages/pandas/io/parsers.py\u001b[0m in \u001b[0;36m__init__\u001b[0;34m(self, f, engine, **kwds)\u001b[0m\n\u001b[1;32m    817\u001b[0m             \u001b[0mself\u001b[0m\u001b[0;34m.\u001b[0m\u001b[0moptions\u001b[0m\u001b[0;34m[\u001b[0m\u001b[0;34m\"has_index_names\"\u001b[0m\u001b[0;34m]\u001b[0m \u001b[0;34m=\u001b[0m \u001b[0mkwds\u001b[0m\u001b[0;34m[\u001b[0m\u001b[0;34m\"has_index_names\"\u001b[0m\u001b[0;34m]\u001b[0m\u001b[0;34m\u001b[0m\u001b[0;34m\u001b[0m\u001b[0m\n\u001b[1;32m    818\u001b[0m \u001b[0;34m\u001b[0m\u001b[0m\n\u001b[0;32m--> 819\u001b[0;31m         \u001b[0mself\u001b[0m\u001b[0;34m.\u001b[0m\u001b[0m_engine\u001b[0m \u001b[0;34m=\u001b[0m \u001b[0mself\u001b[0m\u001b[0;34m.\u001b[0m\u001b[0m_make_engine\u001b[0m\u001b[0;34m(\u001b[0m\u001b[0mself\u001b[0m\u001b[0;34m.\u001b[0m\u001b[0mengine\u001b[0m\u001b[0;34m)\u001b[0m\u001b[0;34m\u001b[0m\u001b[0;34m\u001b[0m\u001b[0m\n\u001b[0m\u001b[1;32m    820\u001b[0m \u001b[0;34m\u001b[0m\u001b[0m\n\u001b[1;32m    821\u001b[0m     \u001b[0;32mdef\u001b[0m \u001b[0mclose\u001b[0m\u001b[0;34m(\u001b[0m\u001b[0mself\u001b[0m\u001b[0;34m)\u001b[0m\u001b[0;34m:\u001b[0m\u001b[0;34m\u001b[0m\u001b[0;34m\u001b[0m\u001b[0m\n",
      "\u001b[0;32m/Library/Frameworks/Python.framework/Versions/3.9/lib/python3.9/site-packages/pandas/io/parsers.py\u001b[0m in \u001b[0;36m_make_engine\u001b[0;34m(self, engine)\u001b[0m\n\u001b[1;32m   1048\u001b[0m             )\n\u001b[1;32m   1049\u001b[0m         \u001b[0;31m# error: Too many arguments for \"ParserBase\"\u001b[0m\u001b[0;34m\u001b[0m\u001b[0;34m\u001b[0m\u001b[0;34m\u001b[0m\u001b[0m\n\u001b[0;32m-> 1050\u001b[0;31m         \u001b[0;32mreturn\u001b[0m \u001b[0mmapping\u001b[0m\u001b[0;34m[\u001b[0m\u001b[0mengine\u001b[0m\u001b[0;34m]\u001b[0m\u001b[0;34m(\u001b[0m\u001b[0mself\u001b[0m\u001b[0;34m.\u001b[0m\u001b[0mf\u001b[0m\u001b[0;34m,\u001b[0m \u001b[0;34m**\u001b[0m\u001b[0mself\u001b[0m\u001b[0;34m.\u001b[0m\u001b[0moptions\u001b[0m\u001b[0;34m)\u001b[0m  \u001b[0;31m# type: ignore[call-arg]\u001b[0m\u001b[0;34m\u001b[0m\u001b[0;34m\u001b[0m\u001b[0m\n\u001b[0m\u001b[1;32m   1051\u001b[0m \u001b[0;34m\u001b[0m\u001b[0m\n\u001b[1;32m   1052\u001b[0m     \u001b[0;32mdef\u001b[0m \u001b[0m_failover_to_python\u001b[0m\u001b[0;34m(\u001b[0m\u001b[0mself\u001b[0m\u001b[0;34m)\u001b[0m\u001b[0;34m:\u001b[0m\u001b[0;34m\u001b[0m\u001b[0;34m\u001b[0m\u001b[0m\n",
      "\u001b[0;32m/Library/Frameworks/Python.framework/Versions/3.9/lib/python3.9/site-packages/pandas/io/parsers.py\u001b[0m in \u001b[0;36m__init__\u001b[0;34m(self, src, **kwds)\u001b[0m\n\u001b[1;32m   1865\u001b[0m \u001b[0;34m\u001b[0m\u001b[0m\n\u001b[1;32m   1866\u001b[0m         \u001b[0;31m# open handles\u001b[0m\u001b[0;34m\u001b[0m\u001b[0;34m\u001b[0m\u001b[0;34m\u001b[0m\u001b[0m\n\u001b[0;32m-> 1867\u001b[0;31m         \u001b[0mself\u001b[0m\u001b[0;34m.\u001b[0m\u001b[0m_open_handles\u001b[0m\u001b[0;34m(\u001b[0m\u001b[0msrc\u001b[0m\u001b[0;34m,\u001b[0m \u001b[0mkwds\u001b[0m\u001b[0;34m)\u001b[0m\u001b[0;34m\u001b[0m\u001b[0;34m\u001b[0m\u001b[0m\n\u001b[0m\u001b[1;32m   1868\u001b[0m         \u001b[0;32massert\u001b[0m \u001b[0mself\u001b[0m\u001b[0;34m.\u001b[0m\u001b[0mhandles\u001b[0m \u001b[0;32mis\u001b[0m \u001b[0;32mnot\u001b[0m \u001b[0;32mNone\u001b[0m\u001b[0;34m\u001b[0m\u001b[0;34m\u001b[0m\u001b[0m\n\u001b[1;32m   1869\u001b[0m         \u001b[0;32mfor\u001b[0m \u001b[0mkey\u001b[0m \u001b[0;32min\u001b[0m \u001b[0;34m(\u001b[0m\u001b[0;34m\"storage_options\"\u001b[0m\u001b[0;34m,\u001b[0m \u001b[0;34m\"encoding\"\u001b[0m\u001b[0;34m,\u001b[0m \u001b[0;34m\"memory_map\"\u001b[0m\u001b[0;34m,\u001b[0m \u001b[0;34m\"compression\"\u001b[0m\u001b[0;34m)\u001b[0m\u001b[0;34m:\u001b[0m\u001b[0;34m\u001b[0m\u001b[0;34m\u001b[0m\u001b[0m\n",
      "\u001b[0;32m/Library/Frameworks/Python.framework/Versions/3.9/lib/python3.9/site-packages/pandas/io/parsers.py\u001b[0m in \u001b[0;36m_open_handles\u001b[0;34m(self, src, kwds)\u001b[0m\n\u001b[1;32m   1360\u001b[0m         \u001b[0mLet\u001b[0m \u001b[0mthe\u001b[0m \u001b[0mreaders\u001b[0m \u001b[0mopen\u001b[0m \u001b[0mIOHanldes\u001b[0m \u001b[0mafter\u001b[0m \u001b[0mthey\u001b[0m \u001b[0mare\u001b[0m \u001b[0mdone\u001b[0m \u001b[0;32mwith\u001b[0m \u001b[0mtheir\u001b[0m \u001b[0mpotential\u001b[0m \u001b[0mraises\u001b[0m\u001b[0;34m.\u001b[0m\u001b[0;34m\u001b[0m\u001b[0;34m\u001b[0m\u001b[0m\n\u001b[1;32m   1361\u001b[0m         \"\"\"\n\u001b[0;32m-> 1362\u001b[0;31m         self.handles = get_handle(\n\u001b[0m\u001b[1;32m   1363\u001b[0m             \u001b[0msrc\u001b[0m\u001b[0;34m,\u001b[0m\u001b[0;34m\u001b[0m\u001b[0;34m\u001b[0m\u001b[0m\n\u001b[1;32m   1364\u001b[0m             \u001b[0;34m\"r\"\u001b[0m\u001b[0;34m,\u001b[0m\u001b[0;34m\u001b[0m\u001b[0;34m\u001b[0m\u001b[0m\n",
      "\u001b[0;32m/Library/Frameworks/Python.framework/Versions/3.9/lib/python3.9/site-packages/pandas/io/common.py\u001b[0m in \u001b[0;36mget_handle\u001b[0;34m(path_or_buf, mode, encoding, compression, memory_map, is_text, errors, storage_options)\u001b[0m\n\u001b[1;32m    640\u001b[0m                 \u001b[0merrors\u001b[0m \u001b[0;34m=\u001b[0m \u001b[0;34m\"replace\"\u001b[0m\u001b[0;34m\u001b[0m\u001b[0;34m\u001b[0m\u001b[0m\n\u001b[1;32m    641\u001b[0m             \u001b[0;31m# Encoding\u001b[0m\u001b[0;34m\u001b[0m\u001b[0;34m\u001b[0m\u001b[0;34m\u001b[0m\u001b[0m\n\u001b[0;32m--> 642\u001b[0;31m             handle = open(\n\u001b[0m\u001b[1;32m    643\u001b[0m                 \u001b[0mhandle\u001b[0m\u001b[0;34m,\u001b[0m\u001b[0;34m\u001b[0m\u001b[0;34m\u001b[0m\u001b[0m\n\u001b[1;32m    644\u001b[0m                 \u001b[0mioargs\u001b[0m\u001b[0;34m.\u001b[0m\u001b[0mmode\u001b[0m\u001b[0;34m,\u001b[0m\u001b[0;34m\u001b[0m\u001b[0;34m\u001b[0m\u001b[0m\n",
      "\u001b[0;31mFileNotFoundError\u001b[0m: [Errno 2] No such file or directory: 'imdb.csv'"
     ]
    }
   ],
   "source": [
    "# GET DATA\n",
    "df=pd.read_csv(\"imdb.csv\")"
   ]
  },
  {
   "cell_type": "code",
   "execution_count": 128,
   "metadata": {},
   "outputs": [
    {
     "output_type": "execute_result",
     "data": {
      "text/plain": [
       "   index     budget                                    genres  \\\n",
       "0      0  237000000  Action Adventure Fantasy Science Fiction   \n",
       "\n",
       "                      homepage     id  \\\n",
       "0  http://www.avatarmovie.com/  19995   \n",
       "\n",
       "                                            keywords original_language  \\\n",
       "0  culture clash future space war space colony so...                en   \n",
       "\n",
       "  original_title                                           overview  \\\n",
       "0         Avatar  In the 22nd century, a paraplegic Marine is di...   \n",
       "\n",
       "   popularity  ... runtime                                   spoken_languages  \\\n",
       "0  150.437577  ...   162.0  [{\"iso_639_1\": \"en\", \"name\": \"English\"}, {\"iso...   \n",
       "\n",
       "     status                      tagline   title vote_average vote_count  \\\n",
       "0  Released  Enter the World of Pandora.  Avatar          7.2      11800   \n",
       "\n",
       "                                                cast  \\\n",
       "0  Sam Worthington Zoe Saldana Sigourney Weaver S...   \n",
       "\n",
       "                                                crew       director  \n",
       "0  [{'name': 'Stephen E. Rivkin', 'gender': 0, 'd...  James Cameron  \n",
       "\n",
       "[1 rows x 24 columns]"
      ],
      "text/html": "<div>\n<style scoped>\n    .dataframe tbody tr th:only-of-type {\n        vertical-align: middle;\n    }\n\n    .dataframe tbody tr th {\n        vertical-align: top;\n    }\n\n    .dataframe thead th {\n        text-align: right;\n    }\n</style>\n<table border=\"1\" class=\"dataframe\">\n  <thead>\n    <tr style=\"text-align: right;\">\n      <th></th>\n      <th>index</th>\n      <th>budget</th>\n      <th>genres</th>\n      <th>homepage</th>\n      <th>id</th>\n      <th>keywords</th>\n      <th>original_language</th>\n      <th>original_title</th>\n      <th>overview</th>\n      <th>popularity</th>\n      <th>...</th>\n      <th>runtime</th>\n      <th>spoken_languages</th>\n      <th>status</th>\n      <th>tagline</th>\n      <th>title</th>\n      <th>vote_average</th>\n      <th>vote_count</th>\n      <th>cast</th>\n      <th>crew</th>\n      <th>director</th>\n    </tr>\n  </thead>\n  <tbody>\n    <tr>\n      <th>0</th>\n      <td>0</td>\n      <td>237000000</td>\n      <td>Action Adventure Fantasy Science Fiction</td>\n      <td>http://www.avatarmovie.com/</td>\n      <td>19995</td>\n      <td>culture clash future space war space colony so...</td>\n      <td>en</td>\n      <td>Avatar</td>\n      <td>In the 22nd century, a paraplegic Marine is di...</td>\n      <td>150.437577</td>\n      <td>...</td>\n      <td>162.0</td>\n      <td>[{\"iso_639_1\": \"en\", \"name\": \"English\"}, {\"iso...</td>\n      <td>Released</td>\n      <td>Enter the World of Pandora.</td>\n      <td>Avatar</td>\n      <td>7.2</td>\n      <td>11800</td>\n      <td>Sam Worthington Zoe Saldana Sigourney Weaver S...</td>\n      <td>[{'name': 'Stephen E. Rivkin', 'gender': 0, 'd...</td>\n      <td>James Cameron</td>\n    </tr>\n  </tbody>\n</table>\n<p>1 rows × 24 columns</p>\n</div>"
     },
     "metadata": {},
     "execution_count": 128
    }
   ],
   "source": [
    "# DISPLAY HEAD DATA\n",
    "df.head(1)"
   ]
  },
  {
   "cell_type": "code",
   "execution_count": 129,
   "metadata": {},
   "outputs": [
    {
     "output_type": "execute_result",
     "data": {
      "text/plain": [
       "(4803, 24)"
      ]
     },
     "metadata": {},
     "execution_count": 129
    }
   ],
   "source": [
    "df.shape"
   ]
  },
  {
   "cell_type": "code",
   "execution_count": 130,
   "metadata": {},
   "outputs": [],
   "source": [
    "features=['keywords','cast','genres','director']\n",
    "for feature in features:\n",
    "    df[feature] = df[feature].fillna('')"
   ]
  },
  {
   "cell_type": "code",
   "execution_count": 131,
   "metadata": {},
   "outputs": [
    {
     "output_type": "stream",
     "name": "stdout",
     "text": [
      "keywords\ncast\ngenres\ndirector\n"
     ]
    }
   ],
   "source": [
    "for x in range(len(features)):\n",
    "    print(features[x])"
   ]
  },
  {
   "cell_type": "code",
   "execution_count": 132,
   "metadata": {},
   "outputs": [],
   "source": [
    "def combine_features(row):\n",
    "        return row['keywords']+\" \"+row['cast']+\" \"+row[\"genres\"]+\" \"+row[\"director\"]"
   ]
  },
  {
   "cell_type": "code",
   "execution_count": 133,
   "metadata": {},
   "outputs": [],
   "source": [
    "df[\"combined_features\"] = df.apply(combine_features,axis=1)"
   ]
  },
  {
   "cell_type": "code",
   "execution_count": 134,
   "metadata": {},
   "outputs": [],
   "source": [
    "from sklearn.feature_extraction.text import CountVectorizer\n",
    "from sklearn.metrics.pairwise import cosine_similarity"
   ]
  },
  {
   "cell_type": "code",
   "execution_count": 135,
   "metadata": {},
   "outputs": [],
   "source": [
    "def get_title_from_index(index):\n",
    "    return df[df.index == index][\"title\"].values[0]\n",
    "\n",
    "def get_rating_from_index(index):\n",
    "    return df[df.index == index][\"vote_average\"].values[0]\n",
    "\n",
    "def get_index_from_title(title):\n",
    "    return df[df.title == title][\"index\"].values[0]\n"
   ]
  },
  {
   "cell_type": "code",
   "execution_count": 136,
   "metadata": {},
   "outputs": [],
   "source": [
    "df=pd.read_csv(\"imdb.csv\", low_memory=False)\n",
    "df1 = df"
   ]
  },
  {
   "cell_type": "code",
   "execution_count": 137,
   "metadata": {},
   "outputs": [
    {
     "output_type": "execute_result",
     "data": {
      "text/plain": [
       "   index     budget                                    genres  \\\n",
       "0      0  237000000  Action Adventure Fantasy Science Fiction   \n",
       "\n",
       "                      homepage     id  \\\n",
       "0  http://www.avatarmovie.com/  19995   \n",
       "\n",
       "                                            keywords original_language  \\\n",
       "0  culture clash future space war space colony so...                en   \n",
       "\n",
       "  original_title                                           overview  \\\n",
       "0         Avatar  In the 22nd century, a paraplegic Marine is di...   \n",
       "\n",
       "   popularity  ... runtime                                   spoken_languages  \\\n",
       "0  150.437577  ...   162.0  [{\"iso_639_1\": \"en\", \"name\": \"English\"}, {\"iso...   \n",
       "\n",
       "     status                      tagline   title vote_average vote_count  \\\n",
       "0  Released  Enter the World of Pandora.  Avatar          7.2      11800   \n",
       "\n",
       "                                                cast  \\\n",
       "0  Sam Worthington Zoe Saldana Sigourney Weaver S...   \n",
       "\n",
       "                                                crew       director  \n",
       "0  [{'name': 'Stephen E. Rivkin', 'gender': 0, 'd...  James Cameron  \n",
       "\n",
       "[1 rows x 24 columns]"
      ],
      "text/html": "<div>\n<style scoped>\n    .dataframe tbody tr th:only-of-type {\n        vertical-align: middle;\n    }\n\n    .dataframe tbody tr th {\n        vertical-align: top;\n    }\n\n    .dataframe thead th {\n        text-align: right;\n    }\n</style>\n<table border=\"1\" class=\"dataframe\">\n  <thead>\n    <tr style=\"text-align: right;\">\n      <th></th>\n      <th>index</th>\n      <th>budget</th>\n      <th>genres</th>\n      <th>homepage</th>\n      <th>id</th>\n      <th>keywords</th>\n      <th>original_language</th>\n      <th>original_title</th>\n      <th>overview</th>\n      <th>popularity</th>\n      <th>...</th>\n      <th>runtime</th>\n      <th>spoken_languages</th>\n      <th>status</th>\n      <th>tagline</th>\n      <th>title</th>\n      <th>vote_average</th>\n      <th>vote_count</th>\n      <th>cast</th>\n      <th>crew</th>\n      <th>director</th>\n    </tr>\n  </thead>\n  <tbody>\n    <tr>\n      <th>0</th>\n      <td>0</td>\n      <td>237000000</td>\n      <td>Action Adventure Fantasy Science Fiction</td>\n      <td>http://www.avatarmovie.com/</td>\n      <td>19995</td>\n      <td>culture clash future space war space colony so...</td>\n      <td>en</td>\n      <td>Avatar</td>\n      <td>In the 22nd century, a paraplegic Marine is di...</td>\n      <td>150.437577</td>\n      <td>...</td>\n      <td>162.0</td>\n      <td>[{\"iso_639_1\": \"en\", \"name\": \"English\"}, {\"iso...</td>\n      <td>Released</td>\n      <td>Enter the World of Pandora.</td>\n      <td>Avatar</td>\n      <td>7.2</td>\n      <td>11800</td>\n      <td>Sam Worthington Zoe Saldana Sigourney Weaver S...</td>\n      <td>[{'name': 'Stephen E. Rivkin', 'gender': 0, 'd...</td>\n      <td>James Cameron</td>\n    </tr>\n  </tbody>\n</table>\n<p>1 rows × 24 columns</p>\n</div>"
     },
     "metadata": {},
     "execution_count": 137
    }
   ],
   "source": [
    "df.head(1)"
   ]
  },
  {
   "cell_type": "code",
   "execution_count": 138,
   "metadata": {},
   "outputs": [],
   "source": [
    "# COSINE SIMILARITY\n",
    "features=['keywords','cast','genres','director','overview']\n",
    "for feature in features:\n",
    "    df[feature] = df[feature].fillna('')"
   ]
  },
  {
   "cell_type": "code",
   "execution_count": 139,
   "metadata": {},
   "outputs": [
    {
     "output_type": "execute_result",
     "data": {
      "text/plain": [
       "['keywords', 'cast', 'genres', 'director', 'overview']"
      ]
     },
     "metadata": {},
     "execution_count": 139
    }
   ],
   "source": [
    "features"
   ]
  },
  {
   "cell_type": "code",
   "execution_count": 140,
   "metadata": {},
   "outputs": [
    {
     "output_type": "execute_result",
     "data": {
      "text/plain": [
       "0       In the 22nd century, a paraplegic Marine is di...\n",
       "1       Captain Barbossa, long believed to be dead, ha...\n",
       "2       A cryptic message from Bond’s past sends him o...\n",
       "3       Following the death of District Attorney Harve...\n",
       "4       John Carter is a war-weary, former military ca...\n",
       "                              ...                        \n",
       "4798    El Mariachi just wants to play his guitar and ...\n",
       "4799    A newlywed couple's honeymoon is upended by th...\n",
       "4800    \"Signed, Sealed, Delivered\" introduces a dedic...\n",
       "4801    When ambitious New York attorney Sam is sent t...\n",
       "4802    Ever since the second grade when he first saw ...\n",
       "Name: overview, Length: 4803, dtype: object"
      ]
     },
     "metadata": {},
     "execution_count": 140
    }
   ],
   "source": [
    "df[feature]"
   ]
  },
  {
   "cell_type": "code",
   "execution_count": 141,
   "metadata": {},
   "outputs": [],
   "source": [
    "def combine_features(row):\n",
    "    return row['keywords']+\" \"+row['cast']+\" \"+row[\"genres\"]+\" \"+row[\"director\"]"
   ]
  },
  {
   "cell_type": "code",
   "execution_count": 142,
   "metadata": {},
   "outputs": [],
   "source": [
    "df[\"combined_features\"] = df.apply(combine_features,axis=1)"
   ]
  },
  {
   "cell_type": "code",
   "execution_count": 143,
   "metadata": {},
   "outputs": [
    {
     "output_type": "execute_result",
     "data": {
      "text/plain": [
       "0       culture clash future space war space colony so...\n",
       "1       ocean drug abuse exotic island east india trad...\n",
       "2       spy based on novel secret agent sequel mi6 Dan...\n",
       "3       dc comics crime fighter terrorist secret ident...\n",
       "4       based on novel mars medallion space travel pri...\n",
       "                              ...                        \n",
       "4798    united states\\u2013mexico barrier legs arms pa...\n",
       "4799     Edward Burns Kerry Bish\\u00e9 Marsha Dietlein...\n",
       "4800    date love at first sight narration investigati...\n",
       "4801     Daniel Henney Eliza Coupe Bill Paxton Alan Ru...\n",
       "4802    obsession camcorder crush dream girl Drew Barr...\n",
       "Name: combined_features, Length: 4803, dtype: object"
      ]
     },
     "metadata": {},
     "execution_count": 143
    }
   ],
   "source": [
    "df[\"combined_features\"]"
   ]
  },
  {
   "cell_type": "code",
   "execution_count": 144,
   "metadata": {},
   "outputs": [
    {
     "output_type": "stream",
     "name": "stdout",
     "text": [
      "The Avengers\nAvengers: Age of Ultron\nIron Man 2\nCaptain America: The Winter Soldier\nCaptain America: Civil War\nThor: The Dark World\nThe Incredible Hulk\nAnt-Man\nX-Men\nX2\nCaptain America: The First Avenger\n"
     ]
    }
   ],
   "source": [
    "# DISPLAY COSINE SIMILARITY WITH RESPECT TO OTHER MOVIES\n",
    "\n",
    "vectorizer = CountVectorizer()\n",
    "\n",
    "count_matrix = vectorizer.fit_transform(df[\"combined_features\"])\n",
    "\n",
    "# Compute the Cosine Similarity based on the count_matrix, on the values passed by COMBINED FEATURES\n",
    "cosine_sim = cosine_similarity(count_matrix) \n",
    "\n",
    "movie_user_likes = \"The Avengers\"\n",
    "\n",
    "# Get index of movie from its title\n",
    "movie_index = get_index_from_title(movie_user_likes)\n",
    "\n",
    "similar_movies =  list(enumerate(cosine_sim[movie_index]))\n",
    "\n",
    "# Get list of similar movies in descending order of similarity score\n",
    "sorted_similar_movies = sorted(similar_movies, key = lambda x:x[1], reverse = True)        \n",
    "\n",
    "i=0\n",
    "for element in sorted_similar_movies:\n",
    "\t\tprint(get_title_from_index(element[0]))\n",
    "\t\ti=i+1\n",
    "\t\tif i>10:\n",
    "\t\t\tbreak;"
   ]
  },
  {
   "cell_type": "code",
   "execution_count": 145,
   "metadata": {},
   "outputs": [
    {
     "output_type": "execute_result",
     "data": {
      "text/plain": [
       "array([[1.        , 0.10540926, 0.12038585, ..., 0.        , 0.        ,\n",
       "        0.        ],\n",
       "       [0.10540926, 1.        , 0.0761387 , ..., 0.03651484, 0.        ,\n",
       "        0.        ],\n",
       "       [0.12038585, 0.0761387 , 1.        , ..., 0.        , 0.11145564,\n",
       "        0.        ],\n",
       "       ...,\n",
       "       [0.        , 0.03651484, 0.        , ..., 1.        , 0.        ,\n",
       "        0.04264014],\n",
       "       [0.        , 0.        , 0.11145564, ..., 0.        , 1.        ,\n",
       "        0.        ],\n",
       "       [0.        , 0.        , 0.        , ..., 0.04264014, 0.        ,\n",
       "        1.        ]])"
      ]
     },
     "metadata": {},
     "execution_count": 145
    }
   ],
   "source": [
    "cosine_sim"
   ]
  },
  {
   "cell_type": "code",
   "execution_count": 146,
   "metadata": {
    "tags": [
     "outputPrepend"
    ]
   },
   "outputs": [
    {
     "output_type": "stream",
     "name": "stdout",
     "text": [
      ".0), (3717, 0.0), (3718, 0.0), (3719, 0.0), (3720, 0.0), (3721, 0.0), (3722, 0.10776318121606496), (3723, 0.07490058862731383), (3724, 0.08466675133346034), (3725, 0.12048289933537483), (3726, 0.0), (3727, 0.0), (3728, 0.0), (3729, 0.0), (3730, 0.06913011298202835), (3731, 0.0), (3732, 0.0), (3733, 0.04016096644512494), (3734, 0.0), (3735, 0.03829197905337418), (3736, 0.08712136837380642), (3737, 0.0), (3738, 0.07838618016696206), (3739, 0.0), (3740, 0.04016096644512494), (3741, 0.0), (3742, 0.0), (3743, 0.0), (3744, 0.0), (3745, 0.0), (3746, 0.0), (3747, 0.0), (3748, 0.07658395810674835), (3749, 0.10776318121606496), (3750, 0.10369516947304253), (3751, 0.14368424162141993), (3752, 0.0), (3753, 0.0), (3754, 0.07332355751067667), (3755, 0.03394221166510653), (3756, 0.046373889576016826), (3757, 0.0), (3758, 0.03829197905337418), (3759, 0.0), (3760, 0.08240856434303291), (3761, 0.0), (3762, 0.0), (3763, 0.0), (3764, 0.11235088294097074), (3765, 0.0), (3766, 0.037450294313656915), (3767, 0.0), (3768, 0.0), (3769, 0.0), (3770, 0.0), (3771, 0.0), (3772, 0.07332355751067667), (3773, 0.0), (3774, 0.03829197905337418), (3775, 0.0), (3776, 0.0), (3777, 0.04233337566673017), (3778, 0.0), (3779, 0.0), (3780, 0.0), (3781, 0.0), (3782, 0.0), (3783, 0.0), (3784, 0.0), (3785, 0.0), (3786, 0.041204282171516456), (3787, 0.0), (3788, 0.0), (3789, 0.0), (3790, 0.0), (3791, 0.0), (3792, 0.0), (3793, 0.0), (3794, 0.0), (3795, 0.11487593716012254), (3796, 0.0), (3797, 0.0), (3798, 0.0), (3799, 0.07838618016696206), (3800, 0.07490058862731383), (3801, 0.0), (3802, 0.0), (3803, 0.0), (3804, 0.033351867298253506), (3805, 0.0), (3806, 0.0), (3807, 0.0), (3808, 0.09962709627734359), (3809, 0.046373889576016826), (3810, 0.03829197905337418), (3811, 0.03919309008348103), (3812, 0.04233337566673017), (3813, 0.0), (3814, 0.0), (3815, 0.03666177875533833), (3816, 0.03919309008348103), (3817, 0.08466675133346034), (3818, 0.0), (3819, 0.07658395810674835), (3820, 0.0), (3821, 0.0), (3822, 0.0), (3823, 0.0), (3824, 0.07838618016696206), (3825, 0.041204282171516456), (3826, 0.07490058862731383), (3827, 0.11757927025044308), (3828, 0.037450294313656915), (3829, 0.0), (3830, 0.03919309008348103), (3831, 0.04016096644512494), (3832, 0.0), (3833, 0.03919309008348103), (3834, 0.0), (3835, 0.08032193289024989), (3836, 0.10369516947304254), (3837, 0.0), (3838, 0.0), (3839, 0.0), (3840, 0.0), (3841, 0.0), (3842, 0.08240856434303291), (3843, 0.0), (3844, 0.0), (3845, 0.03829197905337418), (3846, 0.13470397652008118), (3847, 0.04233337566673017), (3848, 0.037450294313656915), (3849, 0.12048289933537483), (3850, 0.0), (3851, 0.07838618016696206), (3852, 0.0), (3853, 0.08240856434303291), (3854, 0.14980117725462766), (3855, 0.0), (3856, 0.16064386578049977), (3857, 0.09274777915203365), (3858, 0.04233337566673017), (3859, 0.0), (3860, 0.0), (3861, 0.0), (3862, 0.0), (3863, 0.0), (3864, 0.0), (3865, 0.08032193289024989), (3866, 0.0), (3867, 0.0), (3868, 0.04233337566673017), (3869, 0.0), (3870, 0.0), (3871, 0.0), (3872, 0.0), (3873, 0.06788442333021306), (3874, 0.0), (3875, 0.0), (3876, 0.0), (3877, 0.037450294313656915), (3878, 0.0), (3879, 0.037450294313656915), (3880, 0.07184212081070997), (3881, 0.0), (3882, 0.04233337566673017), (3883, 0.0), (3884, 0.06670373459650701), (3885, 0.07658395810674835), (3886, 0.07490058862731383), (3887, 0.109985336266015), (3888, 0.0), (3889, 0.0), (3890, 0.0), (3891, 0.0), (3892, 0.0), (3893, 0.12048289933537483), (3894, 0.0), (3895, 0.07332355751067667), (3896, 0.03592106040535498), (3897, 0.0), (3898, 0.0), (3899, 0.1567723603339241), (3900, 0.0), (3901, 0.14980117725462766), (3902, 0.0), (3903, 0.0), (3904, 0.08032193289024989), (3905, 0.0), (3906, 0.10005560189476051), (3907, 0.0), (3908, 0.0), (3909, 0.0), (3910, 0.0), (3911, 0.0), (3912, 0.04490132550669373), (3913, 0.0), (3914, 0.0), (3915, 0.0), (3916, 0.0), (3917, 0.0), (3918, 0.0), (3919, 0.04356068418690321), (3920, 0.109985336266015), (3921, 0.0), (3922, 0.0), (3923, 0.0), (3924, 0.0), (3925, 0.0), (3926, 0.0), (3927, 0.07838618016696206), (3928, 0.07332355751067667), (3929, 0.16933350266692068), (3930, 0.0), (3931, 0.03829197905337418), (3932, 0.0), (3933, 0.0), (3934, 0.10567049305145204), (3935, 0.0), (3936, 0.0), (3937, 0.0), (3938, 0.05184758473652127), (3939, 0.0), (3940, 0.032791291789197645), (3941, 0.03919309008348103), (3942, 0.07838618016696206), (3943, 0.046373889576016826), (3944, 0.0), (3945, 0.08240856434303291), (3946, 0.0), (3947, 0.0), (3948, 0.08712136837380642), (3949, 0.0), (3950, 0.0), (3951, 0.0), (3952, 0.037450294313656915), (3953, 0.0), (3954, 0.0), (3955, 0.08032193289024989), (3956, 0.07658395810674835), (3957, 0.0), (3958, 0.0), (3959, 0.0), (3960, 0.0), (3961, 0.0), (3962, 0.03592106040535498), (3963, 0.0), (3964, 0.0), (3965, 0.03829197905337418), (3966, 0.03829197905337418), (3967, 0.0), (3968, 0.0), (3969, 0.041204282171516456), (3970, 0.0), (3971, 0.0), (3972, 0.046373889576016826), (3973, 0.14980117725462766), (3974, 0.0), (3975, 0.07838618016696206), (3976, 0.046373889576016826), (3977, 0.0), (3978, 0.0), (3979, 0.0), (3980, 0.0), (3981, 0.03829197905337418), (3982, 0.041204282171516456), (3983, 0.0), (3984, 0.0), (3985, 0.0), (3986, 0.11235088294097074), (3987, 0.08032193289024989), (3988, 0.12361284651454937), (3989, 0.0), (3990, 0.0), (3991, 0.041204282171516456), (3992, 0.0), (3993, 0.16481712868606582), (3994, 0.03666177875533833), (3995, 0.0), (3996, 0.0), (3997, 0.0), (3998, 0.0), (3999, 0.0), (4000, 0.0), (4001, 0.0), (4002, 0.03919309008348103), (4003, 0.07184212081070997), (4004, 0.08712136837380642), (4005, 0.0), (4006, 0.0), (4007, 0.0), (4008, 0.0), (4009, 0.0), (4010, 0.0), (4011, 0.07490058862731383), (4012, 0.11757927025044308), (4013, 0.03919309008348103), (4014, 0.06558258357839529), (4015, 0.0), (4016, 0.033351867298253506), (4017, 0.0), (4018, 0.0), (4019, 0.0), (4020, 0.0), (4021, 0.0), (4022, 0.07490058862731383), (4023, 0.0), (4024, 0.06788442333021306), (4025, 0.0), (4026, 0.0), (4027, 0.0), (4028, 0.0), (4029, 0.0), (4030, 0.0), (4031, 0.0), (4032, 0.07838618016696206), (4033, 0.1531679162134967), (4034, 0.0), (4035, 0.04356068418690321), (4036, 0.03829197905337418), (4037, 0.0), (4038, 0.0), (4039, 0.11235088294097074), (4040, 0.0), (4041, 0.0), (4042, 0.14980117725462766), (4043, 0.0), (4044, 0.0), (4045, 0.0), (4046, 0.0), (4047, 0.0), (4048, 0.0), (4049, 0.03456505649101418), (4050, 0.0), (4051, 0.0), (4052, 0.0), (4053, 0.0), (4054, 0.041204282171516456), (4055, 0.0), (4056, 0.0), (4057, 0.0), (4058, 0.0), (4059, 0.07658395810674835), (4060, 0.0), (4061, 0.12361284651454937), (4062, 0.0), (4063, 0.0), (4064, 0.0), (4065, 0.13576884666042613), (4066, 0.0), (4067, 0.0), (4068, 0.0), (4069, 0.08712136837380642), (4070, 0.046373889576016826), (4071, 0.109985336266015), (4072, 0.11757927025044308), (4073, 0.07184212081070997), (4074, 0.04016096644512494), (4075, 0.0), (4076, 0.10567049305145204), (4077, 0.14980117725462766), (4078, 0.032791291789197645), (4079, 0.0), (4080, 0.07184212081070997), (4081, 0.0), (4082, 0.0), (4083, 0.12048289933537483), (4084, 0.03394221166510653), (4085, 0.03394221166510653), (4086, 0.09600307214746387), (4087, 0.0), (4088, 0.0), (4089, 0.0), (4090, 0.0), (4091, 0.0), (4092, 0.0), (4093, 0.08032193289024989), (4094, 0.0), (4095, 0.0), (4096, 0.0), (4097, 0.0), (4098, 0.03919309008348103), (4099, 0.03829197905337418), (4100, 0.0704469953676347), (4101, 0.0), (4102, 0.0), (4103, 0.07184212081070997), (4104, 0.0), (4105, 0.0), (4106, 0.041204282171516456), (4107, 0.06451612903225808), (4108, 0.0), (4109, 0.0), (4110, 0.0), (4111, 0.046373889576016826), (4112, 0.0), (4113, 0.0), (4114, 0.03919309008348103), (4115, 0.0), (4116, 0.0), (4117, 0.16481712868606582), (4118, 0.0), (4119, 0.0), (4120, 0.0), (4121, 0.0), (4122, 0.0), (4123, 0.0), (4124, 0.03666177875533833), (4125, 0.09600307214746387), (4126, 0.0), (4127, 0.0), (4128, 0.08240856434303291), (4129, 0.254000254000381), (4130, 0.0), (4131, 0.08032193289024989), (4132, 0.0), (4133, 0.0), (4134, 0.0), (4135, 0.07332355751067667), (4136, 0.04016096644512494), (4137, 0.0), (4138, 0.0), (4139, 0.08032193289024989), (4140, 0.0), (4141, 0.0), (4142, 0.0), (4143, 0.09274777915203365), (4144, 0.06913011298202835), (4145, 0.03829197905337418), (4146, 0.08712136837380642), (4147, 0.0), (4148, 0.0), (4149, 0.0), (4150, 0.0), (4151, 0.0), (4152, 0.0), (4153, 0.0), (4154, 0.04016096644512494), (4155, 0.1567723603339241), (4156, 0.08032193289024989), (4157, 0.03666177875533833), (4158, 0.041204282171516456), (4159, 0.0), (4160, 0.08980265101338746), (4161, 0.048001536073731935), (4162, 0.03394221166510653), (4163, 0.0), (4164, 0.0), (4165, 0.0), (4166, 0.0), (4167, 0.0), (4168, 0.0), (4169, 0.04490132550669373), (4170, 0.0), (4171, 0.0), (4172, 0.0), (4173, 0.0), (4174, 0.0), (4175, 0.0), (4176, 0.12361284651454937), (4177, 0.0), (4178, 0.0), (4179, 0.0), (4180, 0.0), (4181, 0.0), (4182, 0.03456505649101418), (4183, 0.0), (4184, 0.0), (4185, 0.0), (4186, 0.0), (4187, 0.1270001270001905), (4188, 0.0), (4189, 0.03919309008348103), (4190, 0.0), (4191, 0.03919309008348103), (4192, 0.0), (4193, 0.11757927025044308), (4194, 0.0), (4195, 0.0), (4196, 0.03829197905337418), (4197, 0.0), (4198, 0.0), (4199, 0.0), (4200, 0.0), (4201, 0.0), (4202, 0.03592106040535498), (4203, 0.0), (4204, 0.0), (4205, 0.0), (4206, 0.031750031750047626), (4207, 0.0), (4208, 0.0), (4209, 0.0), (4210, 0.0), (4211, 0.0), (4212, 0.0), (4213, 0.0), (4214, 0.0), (4215, 0.033351867298253506), (4216, 0.0), (4217, 0.0), (4218, 0.0), (4219, 0.07184212081070997), (4220, 0.032791291789197645), (4221, 0.0), (4222, 0.0), (4223, 0.0), (4224, 0.0), (4225, 0.07490058862731383), (4226, 0.0), (4227, 0.0), (4228, 0.0), (4229, 0.0), (4230, 0.037450294313656915), (4231, 0.0), (4232, 0.0), (4233, 0.049813548138671795), (4234, 0.0), (4235, 0.0), (4236, 0.0), (4237, 0.03829197905337418), (4238, 0.0), (4239, 0.0), (4240, 0.0), (4241, 0.046373889576016826), (4242, 0.0), (4243, 0.0), (4244, 0.08032193289024989), (4245, 0.07490058862731383), (4246, 0.0), (4247, 0.0), (4248, 0.0), (4249, 0.0), (4250, 0.03225806451612904), (4251, 0.08032193289024989), (4252, 0.0), (4253, 0.04490132550669373), (4254, 0.08240856434303291), (4255, 0.0), (4256, 0.08712136837380642), (4257, 0.0), (4258, 0.046373889576016826), (4259, 0.0), (4260, 0.0), (4261, 0.0), (4262, 0.04490132550669373), (4263, 0.0), (4264, 0.0), (4265, 0.0), (4266, 0.0), (4267, 0.10776318121606496), (4268, 0.0), (4269, 0.05184758473652127), (4270, 0.0), (4271, 0.03592106040535498), (4272, 0.0), (4273, 0.049813548138671795), (4274, 0.0), (4275, 0.04356068418690321), (4276, 0.08466675133346034), (4277, 0.046373889576016826), (4278, 0.0), (4279, 0.0), (4280, 0.0), (4281, 0.07490058862731383), (4282, 0.0), (4283, 0.0), (4284, 0.07838618016696206), (4285, 0.0), (4286, 0.03829197905337418), (4287, 0.0), (4288, 0.0), (4289, 0.0), (4290, 0.0), (4291, 0.07490058862731383), (4292, 0.0), (4293, 0.0), (4294, 0.0), (4295, 0.0), (4296, 0.08980265101338746), (4297, 0.0), (4298, 0.0), (4299, 0.0), (4300, 0.08240856434303291), (4301, 0.0), (4302, 0.0), (4303, 0.0), (4304, 0.04490132550669373), (4305, 0.0), (4306, 0.0), (4307, 0.0), (4308, 0.0), (4309, 0.0), (4310, 0.07490058862731383), (4311, 0.0), (4312, 0.07490058862731383), (4313, 0.0), (4314, 0.0), (4315, 0.17424273674761284), (4316, 0.08980265101338746), (4317, 0.0), (4318, 0.048001536073731935), (4319, 0.0), (4320, 0.0), (4321, 0.0), (4322, 0.0), (4323, 0.0), (4324, 0.0), (4325, 0.07658395810674835), (4326, 0.07184212081070997), (4327, 0.10369516947304253), (4328, 0.0), (4329, 0.0), (4330, 0.0), (4331, 0.0), (4332, 0.10776318121606496), (4333, 0.0), (4334, 0.0), (4335, 0.11487593716012254), (4336, 0.0), (4337, 0.037450294313656915), (4338, 0.0), (4339, 0.07490058862731383), (4340, 0.0), (4341, 0.0), (4342, 0.0), (4343, 0.0), (4344, 0.14664711502135333), (4345, 0.0), (4346, 0.08032193289024989), (4347, 0.0), (4348, 0.0), (4349, 0.11757927025044308), (4350, 0.0), (4351, 0.03919309008348103), (4352, 0.07838618016696206), (4353, 0.07490058862731383), (4354, 0.0), (4355, 0.0), (4356, 0.03829197905337418), (4357, 0.049813548138671795), (4358, 0.0), (4359, 0.07838618016696206), (4360, 0.0), (4361, 0.0), (4362, 0.0), (4363, 0.0), (4364, 0.11235088294097074), (4365, 0.0), (4366, 0.09274777915203365), (4367, 0.0), (4368, 0.0), (4369, 0.0), (4370, 0.0), (4371, 0.0), (4372, 0.0), (4373, 0.0), (4374, 0.0), (4375, 0.0), (4376, 0.0), (4377, 0.0), (4378, 0.0), (4379, 0.07658395810674835), (4380, 0.0), (4381, 0.0), (4382, 0.0), (4383, 0.07838618016696206), (4384, 0.0), (4385, 0.0), (4386, 0.04356068418690321), (4387, 0.0), (4388, 0.03919309008348103), (4389, 0.0), (4390, 0.0), (4391, 0.0), (4392, 0.07490058862731383), (4393, 0.0), (4394, 0.07184212081070997), (4395, 0.08980265101338746), (4396, 0.0), (4397, 0.0), (4398, 0.07332355751067667), (4399, 0.16064386578049977), (4400, 0.049813548138671795), (4401, 0.26940795304016235), (4402, 0.037450294313656915), (4403, 0.0), (4404, 0.0), (4405, 0.0), (4406, 0.0), (4407, 0.0), (4408, 0.07838618016696206), (4409, 0.046373889576016826), (4410, 0.0), (4411, 0.0), (4412, 0.0), (4413, 0.0), (4414, 0.0), (4415, 0.0), (4416, 0.0), (4417, 0.0), (4418, 0.0), (4419, 0.0), (4420, 0.0), (4421, 0.046373889576016826), (4422, 0.0), (4423, 0.07332355751067667), (4424, 0.08466675133346034), (4425, 0.11757927025044308), (4426, 0.0), (4427, 0.07838618016696206), (4428, 0.0), (4429, 0.0), (4430, 0.0), (4431, 0.0), (4432, 0.0), (4433, 0.0), (4434, 0.0), (4435, 0.0), (4436, 0.0), (4437, 0.0), (4438, 0.0), (4439, 0.07332355751067667), (4440, 0.1728252824550709), (4441, 0.0), (4442, 0.0), (4443, 0.0), (4444, 0.0), (4445, 0.0), (4446, 0.03829197905337418), (4447, 0.0), (4448, 0.0704469953676347), (4449, 0.0), (4450, 0.13470397652008118), (4451, 0.0), (4452, 0.0), (4453, 0.0), (4454, 0.0), (4455, 0.0), (4456, 0.0), (4457, 0.0), (4458, 0.0), (4459, 0.0), (4460, 0.04016096644512494), (4461, 0.0), (4462, 0.0), (4463, 0.0), (4464, 0.0), (4465, 0.0704469953676347), (4466, 0.09274777915203365), (4467, 0.0), (4468, 0.08032193289024989), (4469, 0.0), (4470, 0.12361284651454937), (4471, 0.0), (4472, 0.0), (4473, 0.0), (4474, 0.0), (4475, 0.0), (4476, 0.04490132550669373), (4477, 0.0), (4478, 0.08466675133346034), (4479, 0.0), (4480, 0.0), (4481, 0.0), (4482, 0.0), (4483, 0.0), (4484, 0.0), (4485, 0.0), (4486, 0.0), (4487, 0.10369516947304253), (4488, 0.0), (4489, 0.0), (4490, 0.09274777915203365), (4491, 0.0), (4492, 0.0), (4493, 0.0), (4494, 0.0), (4495, 0.037450294313656915), (4496, 0.0), (4497, 0.0), (4498, 0.0), (4499, 0.08980265101338746), (4500, 0.09600307214746387), (4501, 0.0), (4502, 0.0), (4503, 0.0), (4504, 0.0), (4505, 0.0), (4506, 0.0), (4507, 0.0), (4508, 0.0), (4509, 0.0), (4510, 0.0), (4511, 0.0), (4512, 0.0), (4513, 0.03919309008348103), (4514, 0.08032193289024989), (4515, 0.0), (4516, 0.07490058862731383), (4517, 0.0), (4518, 0.03829197905337418), (4519, 0.0), (4520, 0.0), (4521, 0.0), (4522, 0.0), (4523, 0.0), (4524, 0.0), (4525, 0.0), (4526, 0.0), (4527, 0.03666177875533833), (4528, 0.0), (4529, 0.037450294313656915), (4530, 0.0), (4531, 0.0), (4532, 0.0), (4533, 0.0), (4534, 0.0), (4535, 0.04016096644512494), (4536, 0.0), (4537, 0.0), (4538, 0.0), (4539, 0.0), (4540, 0.0), (4541, 0.0), (4542, 0.07838618016696206), (4543, 0.0), (4544, 0.0), (4545, 0.0), (4546, 0.04490132550669373), (4547, 0.0), (4548, 0.0), (4549, 0.037450294313656915), (4550, 0.0), (4551, 0.06913011298202835), (4552, 0.046373889576016826), (4553, 0.0), (4554, 0.04233337566673017), (4555, 0.06670373459650701), (4556, 0.0), (4557, 0.04490132550669373), (4558, 0.0), (4559, 0.0), (4560, 0.0), (4561, 0.0), (4562, 0.0), (4563, 0.14368424162141993), (4564, 0.0), (4565, 0.07658395810674835), (4566, 0.0), (4567, 0.0), (4568, 0.0), (4569, 0.0), (4570, 0.0), (4571, 0.0), (4572, 0.14980117725462766), (4573, 0.0), (4574, 0.0), (4575, 0.0), (4576, 0.0), (4577, 0.03919309008348103), (4578, 0.0), (4579, 0.032791291789197645), (4580, 0.0), (4581, 0.0), (4582, 0.0), (4583, 0.0), (4584, 0.0), (4585, 0.0), (4586, 0.0), (4587, 0.07658395810674835), (4588, 0.0), (4589, 0.0), (4590, 0.0), (4591, 0.0), (4592, 0.04356068418690321), (4593, 0.0704469953676347), (4594, 0.0), (4595, 0.0), (4596, 0.0), (4597, 0.0), (4598, 0.0), (4599, 0.08240856434303291), (4600, 0.0), (4601, 0.08712136837380642), (4602, 0.0), (4603, 0.0), (4604, 0.0), (4605, 0.0), (4606, 0.0), (4607, 0.0), (4608, 0.0), (4609, 0.0), (4610, 0.0), (4611, 0.09600307214746387), (4612, 0.0), (4613, 0.0), (4614, 0.0), (4615, 0.0), (4616, 0.0), (4617, 0.0), (4618, 0.0), (4619, 0.04233337566673017), (4620, 0.07658395810674835), (4621, 0.041204282171516456), (4622, 0.0), (4623, 0.11757927025044308), (4624, 0.0), (4625, 0.0), (4626, 0.0), (4627, 0.0), (4628, 0.0), (4629, 0.0), (4630, 0.0), (4631, 0.033351867298253506), (4632, 0.0), (4633, 0.0), (4634, 0.0), (4635, 0.0), (4636, 0.07658395810674835), (4637, 0.0), (4638, 0.10369516947304254), (4639, 0.07490058862731383), (4640, 0.0), (4641, 0.0), (4642, 0.0), (4643, 0.0), (4644, 0.0), (4645, 0.0), (4646, 0.0), (4647, 0.0), (4648, 0.0), (4649, 0.0), (4650, 0.08240856434303291), (4651, 0.07838618016696206), (4652, 0.13068205256070964), (4653, 0.0), (4654, 0.12361284651454937), (4655, 0.0), (4656, 0.0), (4657, 0.0), (4658, 0.0), (4659, 0.0), (4660, 0.046373889576016826), (4661, 0.0), (4662, 0.0), (4663, 0.0), (4664, 0.04233337566673017), (4665, 0.0), (4666, 0.0), (4667, 0.0), (4668, 0.04016096644512494), (4669, 0.109985336266015), (4670, 0.14664711502135333), (4671, 0.0), (4672, 0.0), (4673, 0.0), (4674, 0.0), (4675, 0.07490058862731383), (4676, 0.0), (4677, 0.04233337566673017), (4678, 0.0), (4679, 0.0), (4680, 0.0), (4681, 0.0), (4682, 0.0), (4683, 0.0), (4684, 0.0), (4685, 0.20739033894608508), (4686, 0.0), (4687, 0.03592106040535498), (4688, 0.07838618016696206), (4689, 0.0), (4690, 0.0), (4691, 0.08240856434303291), (4692, 0.04356068418690321), (4693, 0.08980265101338746), (4694, 0.0), (4695, 0.0), (4696, 0.10567049305145204), (4697, 0.0), (4698, 0.0), (4699, 0.0), (4700, 0.07838618016696206), (4701, 0.027713699773684666), (4702, 0.0), (4703, 0.0), (4704, 0.032791291789197645), (4705, 0.0), (4706, 0.0), (4707, 0.0), (4708, 0.05415303610738824), (4709, 0.07490058862731383), (4710, 0.0), (4711, 0.0), (4712, 0.0), (4713, 0.0), (4714, 0.08240856434303291), (4715, 0.07332355751067667), (4716, 0.0), (4717, 0.03592106040535498), (4718, 0.0), (4719, 0.0), (4720, 0.0), (4721, 0.0), (4722, 0.08032193289024989), (4723, 0.0), (4724, 0.07332355751067667), (4725, 0.07658395810674835), (4726, 0.0), (4727, 0.041204282171516456), (4728, 0.10776318121606496), (4729, 0.0), (4730, 0.0), (4731, 0.0), (4732, 0.0), (4733, 0.0), (4734, 0.13068205256070964), (4735, 0.0), (4736, 0.0), (4737, 0.0), (4738, 0.03919309008348103), (4739, 0.0), (4740, 0.03666177875533833), (4741, 0.08712136837380642), (4742, 0.0), (4743, 0.0), (4744, 0.03919309008348103), (4745, 0.07838618016696206), (4746, 0.046373889576016826), (4747, 0.0), (4748, 0.0), (4749, 0.0), (4750, 0.0), (4751, 0.0), (4752, 0.0), (4753, 0.0), (4754, 0.0), (4755, 0.0), (4756, 0.0), (4757, 0.0), (4758, 0.11235088294097074), (4759, 0.26940795304016235), (4760, 0.049813548138671795), (4761, 0.0), (4762, 0.0), (4763, 0.0), (4764, 0.08980265101338746), (4765, 0.0), (4766, 0.0), (4767, 0.0), (4768, 0.04356068418690321), (4769, 0.10369516947304254), (4770, 0.0), (4771, 0.0), (4772, 0.07332355751067667), (4773, 0.0), (4774, 0.0), (4775, 0.046373889576016826), (4776, 0.04016096644512494), (4777, 0.0), (4778, 0.03919309008348103), (4779, 0.04490132550669373), (4780, 0.0), (4781, 0.0), (4782, 0.0), (4783, 0.0), (4784, 0.048001536073731935), (4785, 0.0), (4786, 0.0), (4787, 0.12048289933537483), (4788, 0.0), (4789, 0.0), (4790, 0.0), (4791, 0.0), (4792, 0.07490058862731383), (4793, 0.0), (4794, 0.0), (4795, 0.0), (4796, 0.06558258357839529), (4797, 0.0), (4798, 0.0704469953676347), (4799, 0.0), (4800, 0.0), (4801, 0.0), (4802, 0.0)]\n"
     ]
    }
   ],
   "source": [
    "print(similar_movies)"
   ]
  },
  {
   "cell_type": "code",
   "execution_count": 147,
   "metadata": {},
   "outputs": [
    {
     "output_type": "stream",
     "name": "stdout",
     "text": [
      "[[0 0 0 ... 0 0 0]\n [0 0 0 ... 0 0 0]\n [0 0 0 ... 0 0 0]\n ...\n [0 0 0 ... 0 0 0]\n [0 0 0 ... 0 0 0]\n [0 0 0 ... 0 0 0]]\n"
     ]
    }
   ],
   "source": [
    "print(count_matrix.toarray())"
   ]
  },
  {
   "cell_type": "code",
   "execution_count": 148,
   "metadata": {},
   "outputs": [
    {
     "output_type": "execute_result",
     "data": {
      "text/plain": [
       "array([[1.        , 0.10540926, 0.12038585, ..., 0.        , 0.        ,\n",
       "        0.        ],\n",
       "       [0.10540926, 1.        , 0.0761387 , ..., 0.03651484, 0.        ,\n",
       "        0.        ],\n",
       "       [0.12038585, 0.0761387 , 1.        , ..., 0.        , 0.11145564,\n",
       "        0.        ],\n",
       "       ...,\n",
       "       [0.        , 0.03651484, 0.        , ..., 1.        , 0.        ,\n",
       "        0.04264014],\n",
       "       [0.        , 0.        , 0.11145564, ..., 0.        , 1.        ,\n",
       "        0.        ],\n",
       "       [0.        , 0.        , 0.        , ..., 0.04264014, 0.        ,\n",
       "        1.        ]])"
      ]
     },
     "metadata": {},
     "execution_count": 148
    }
   ],
   "source": [
    "cosine_sim"
   ]
  },
  {
   "cell_type": "code",
   "execution_count": 149,
   "metadata": {},
   "outputs": [
    {
     "output_type": "execute_result",
     "data": {
      "text/plain": [
       "                original_title  vote_count  vote_average  weighted_average\n",
       "1881  The Shawshank Redemption        8205           8.5          8.340775"
      ],
      "text/html": "<div>\n<style scoped>\n    .dataframe tbody tr th:only-of-type {\n        vertical-align: middle;\n    }\n\n    .dataframe tbody tr th {\n        vertical-align: top;\n    }\n\n    .dataframe thead th {\n        text-align: right;\n    }\n</style>\n<table border=\"1\" class=\"dataframe\">\n  <thead>\n    <tr style=\"text-align: right;\">\n      <th></th>\n      <th>original_title</th>\n      <th>vote_count</th>\n      <th>vote_average</th>\n      <th>weighted_average</th>\n    </tr>\n  </thead>\n  <tbody>\n    <tr>\n      <th>1881</th>\n      <td>The Shawshank Redemption</td>\n      <td>8205</td>\n      <td>8.5</td>\n      <td>8.340775</td>\n    </tr>\n  </tbody>\n</table>\n</div>"
     },
     "metadata": {},
     "execution_count": 149
    }
   ],
   "source": [
    "# WEIGHTED AVERAGE ALGORITHM (collabaritive)\n",
    "\n",
    "v=df1['vote_count'] \n",
    "R=df1['vote_average'] \n",
    "C=df1['vote_average'].mean() \n",
    "m=df1['vote_count'].quantile(0.70) \n",
    "\n",
    "df1['weighted_average']=((R*v)+ (C*m))/(v+m)\n",
    "\n",
    "# print(df1)\n",
    "\n",
    "movie_sorted_ranking=df1.sort_values('weighted_average',ascending=False)\n",
    "\n",
    "movie_sorted_ranking[['original_title', 'vote_count', 'vote_average', 'weighted_average']].head(1)"
   ]
  },
  {
   "cell_type": "code",
   "execution_count": 150,
   "metadata": {},
   "outputs": [
    {
     "output_type": "execute_result",
     "data": {
      "text/plain": [
       "0    11800\n",
       "1     4500\n",
       "2     4466\n",
       "Name: vote_count, dtype: int64"
      ]
     },
     "metadata": {},
     "execution_count": 150
    }
   ],
   "source": [
    "v.head(3)"
   ]
  },
  {
   "cell_type": "code",
   "execution_count": 151,
   "metadata": {},
   "outputs": [
    {
     "output_type": "execute_result",
     "data": {
      "text/plain": [
       "0    7.2\n",
       "1    6.9\n",
       "2    6.3\n",
       "Name: vote_average, dtype: float64"
      ]
     },
     "metadata": {},
     "execution_count": 151
    }
   ],
   "source": [
    "R.head(3)"
   ]
  },
  {
   "cell_type": "code",
   "execution_count": 152,
   "metadata": {},
   "outputs": [
    {
     "output_type": "execute_result",
     "data": {
      "text/plain": [
       "6.092171559442016"
      ]
     },
     "metadata": {},
     "execution_count": 152
    }
   ],
   "source": [
    "C"
   ]
  }
 ]
}